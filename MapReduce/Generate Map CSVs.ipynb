{
 "cells": [
  {
   "cell_type": "code",
   "execution_count": null,
   "metadata": {},
   "outputs": [],
   "source": [
    "import pandas as pd"
   ]
  },
  {
   "cell_type": "code",
   "execution_count": null,
   "metadata": {},
   "outputs": [],
   "source": [
    "df=pd.read_csv('RAW.csv',sep=',',low_memory=False)"
   ]
  },
  {
   "cell_type": "code",
   "execution_count": null,
   "metadata": {},
   "outputs": [],
   "source": [
    "pincode=560012"
   ]
  },
  {
   "cell_type": "code",
   "execution_count": null,
   "metadata": {},
   "outputs": [],
   "source": [
    "x=df.loc[df['postalCode'] == pincode]"
   ]
  },
  {
   "cell_type": "code",
   "execution_count": null,
   "metadata": {},
   "outputs": [],
   "source": [
    "y = x[['displayLatitude','displayLongitude']]"
   ]
  },
  {
   "cell_type": "code",
   "execution_count": null,
   "metadata": {},
   "outputs": [],
   "source": [
    "y=y.drop_duplicates()"
   ]
  },
  {
   "cell_type": "code",
   "execution_count": null,
   "metadata": {},
   "outputs": [],
   "source": [
    "y.to_csv('check.csv',index=False,header=False)"
   ]
  },
  {
   "cell_type": "code",
   "execution_count": null,
   "metadata": {},
   "outputs": [],
   "source": [
    "df"
   ]
  },
  {
   "cell_type": "code",
   "execution_count": null,
   "metadata": {
    "scrolled": true
   },
   "outputs": [],
   "source": [
    "y"
   ]
  },
  {
   "cell_type": "code",
   "execution_count": null,
   "metadata": {},
   "outputs": [],
   "source": [
    "hh=[]"
   ]
  },
  {
   "cell_type": "code",
   "execution_count": null,
   "metadata": {},
   "outputs": [],
   "source": [
    "lat_l = df['displayLatitude'].tolist()\n",
    "lng_l = df['displayLongitude'].tolist()"
   ]
  },
  {
   "cell_type": "code",
   "execution_count": null,
   "metadata": {},
   "outputs": [],
   "source": [
    "for i in range(0,1231):\n",
    "    hh.append({\"lat\":lat_l[i],\"lng\":lng_l[i]})"
   ]
  },
  {
   "cell_type": "code",
   "execution_count": null,
   "metadata": {},
   "outputs": [],
   "source": [
    "hh"
   ]
  },
  {
   "cell_type": "code",
   "execution_count": null,
   "metadata": {},
   "outputs": [],
   "source": []
  },
  {
   "cell_type": "code",
   "execution_count": null,
   "metadata": {},
   "outputs": [],
   "source": [
    "hh"
   ]
  },
  {
   "cell_type": "code",
   "execution_count": null,
   "metadata": {},
   "outputs": [],
   "source": [
    "x={'lat': 13.0160149, 'lng': 77.3776847}"
   ]
  },
  {
   "cell_type": "code",
   "execution_count": null,
   "metadata": {},
   "outputs": [],
   "source": [
    "x['lat']"
   ]
  },
  {
   "cell_type": "code",
   "execution_count": null,
   "metadata": {},
   "outputs": [],
   "source": []
  },
  {
   "cell_type": "code",
   "execution_count": null,
   "metadata": {},
   "outputs": [],
   "source": [
    "def min_lat(hh):\n",
    "    MIN_LAT=hh[0]\n",
    "    for i in range(0,len(hh)):\n",
    "        if hh[i]['lat']<MIN_LAT['lat']:\n",
    "            MIN_LAT=hh[i]\n",
    "    return MIN_LAT\n",
    "\n",
    "def max_lat(hh):\n",
    "    MAX_LAT=hh[0]\n",
    "    for i in range(0,len(hh)):\n",
    "        if hh[i]['lat']>MAX_LAT['lat']:\n",
    "            MAX_LAT=hh[i]\n",
    "    return MAX_LAT\n",
    "\n",
    "def min_lng(hh):\n",
    "    MIN_LNG=hh[0]\n",
    "    for i in range(0,len(hh)):\n",
    "        if hh[i]['lng']<MIN_LNG['lng']:\n",
    "            MIN_LNG=hh[i]\n",
    "    return MIN_LNG\n",
    "\n",
    "def max_lng(hh):\n",
    "    MAX_LNG=hh[0]\n",
    "    for i in range(0,len(hh)):\n",
    "        if hh[i]['lng']>MAX_LNG['lng']:\n",
    "            MAX_LNG=hh[i]\n",
    "    return MAX_LNG"
   ]
  },
  {
   "cell_type": "code",
   "execution_count": null,
   "metadata": {},
   "outputs": [],
   "source": []
  },
  {
   "cell_type": "code",
   "execution_count": null,
   "metadata": {},
   "outputs": [],
   "source": []
  },
  {
   "cell_type": "code",
   "execution_count": null,
   "metadata": {},
   "outputs": [],
   "source": []
  },
  {
   "cell_type": "code",
   "execution_count": null,
   "metadata": {},
   "outputs": [],
   "source": []
  },
  {
   "cell_type": "code",
   "execution_count": null,
   "metadata": {},
   "outputs": [],
   "source": []
  },
  {
   "cell_type": "code",
   "execution_count": null,
   "metadata": {},
   "outputs": [],
   "source": [
    "a=min_lat(hh)\n",
    "\n",
    "c=min_lng(hh)\n",
    "d="
   ]
  },
  {
   "cell_type": "code",
   "execution_count": null,
   "metadata": {
    "scrolled": true
   },
   "outputs": [],
   "source": [
    "a=max_lat(hh)\n",
    "b=max_lng(hh)\n",
    "c=min_lat(hh)\n",
    "d=min_lng(hh)"
   ]
  },
  {
   "cell_type": "code",
   "execution_count": null,
   "metadata": {},
   "outputs": [],
   "source": []
  },
  {
   "cell_type": "code",
   "execution_count": null,
   "metadata": {},
   "outputs": [],
   "source": [
    "import json"
   ]
  },
  {
   "cell_type": "code",
   "execution_count": null,
   "metadata": {},
   "outputs": [],
   "source": [
    "x=json.dumps(a)"
   ]
  },
  {
   "cell_type": "code",
   "execution_count": null,
   "metadata": {},
   "outputs": [],
   "source": [
    "final"
   ]
  },
  {
   "cell_type": "code",
   "execution_count": null,
   "metadata": {},
   "outputs": [],
   "source": []
  },
  {
   "cell_type": "code",
   "execution_count": null,
   "metadata": {},
   "outputs": [],
   "source": [
    "d = {\"foo\": \"bar\"}\n",
    "j = json.dumps(d)\n",
    "print(j)"
   ]
  },
  {
   "cell_type": "code",
   "execution_count": null,
   "metadata": {},
   "outputs": [],
   "source": [
    "h=[[\"lat\", 13.019121], [\"lng\", 77.3801937]]"
   ]
  },
  {
   "cell_type": "code",
   "execution_count": null,
   "metadata": {},
   "outputs": [],
   "source": [
    "h"
   ]
  },
  {
   "cell_type": "code",
   "execution_count": null,
   "metadata": {},
   "outputs": [],
   "source": [
    "h=[[\"lat\", 13.019121], [\"lng\", 77.3801937]]\n",
    "json.dumps(h)"
   ]
  },
  {
   "cell_type": "code",
   "execution_count": null,
   "metadata": {},
   "outputs": [],
   "source": [
    "raw_data=pd.read_csv('RAW.csv',sep=',',low_memory=False)\n",
    "x=raw_data.loc[raw_data['postalCode'] == pincode]\n",
    "y = x[['displayLatitude','displayLongitude']]\n",
    "y=y.drop_duplicates()\n",
    "lat_l = y['displayLatitude'].tolist()\n",
    "lng_l = y['displayLongitude'].tolist()\n",
    "hh=[]\n",
    "for i in range(0,len(lat_l)):\n",
    "    hh.append({'lat':lat_l[i],'lng':lng_l[i]})"
   ]
  },
  {
   "cell_type": "code",
   "execution_count": null,
   "metadata": {},
   "outputs": [],
   "source": [
    "hh"
   ]
  },
  {
   "cell_type": "code",
   "execution_count": null,
   "metadata": {},
   "outputs": [],
   "source": [
    "final"
   ]
  },
  {
   "cell_type": "code",
   "execution_count": null,
   "metadata": {},
   "outputs": [],
   "source": [
    "import pandas as pd \n",
    "  \n",
    "# initialize list of lists \n",
    "data = [['tom', 10], ['nick', 15], ['juli', 14]] \n",
    "  \n",
    "# Create the pandas DataFrame \n",
    "df = pd.DataFrame(data, columns = ['Name', 'Age']) \n",
    "  \n",
    "# print dataframe. \n",
    "df "
   ]
  },
  {
   "cell_type": "code",
   "execution_count": null,
   "metadata": {},
   "outputs": [],
   "source": []
  },
  {
   "cell_type": "code",
   "execution_count": null,
   "metadata": {},
   "outputs": [],
   "source": [
    "df=pd.read_csv('RAW.csv',sep=',',low_memory=False)"
   ]
  },
  {
   "cell_type": "code",
   "execution_count": null,
   "metadata": {},
   "outputs": [],
   "source": [
    "pincodes={'560079'}"
   ]
  },
  {
   "cell_type": "code",
   "execution_count": null,
   "metadata": {},
   "outputs": [],
   "source": [
    "for i in df['postalCode']:\n",
    "    pincodes.add(i)"
   ]
  },
  {
   "cell_type": "code",
   "execution_count": null,
   "metadata": {},
   "outputs": [],
   "source": [
    "pincodes"
   ]
  },
  {
   "cell_type": "code",
   "execution_count": null,
   "metadata": {},
   "outputs": [],
   "source": []
  },
  {
   "cell_type": "code",
   "execution_count": null,
   "metadata": {},
   "outputs": [],
   "source": [
    "import requests"
   ]
  },
  {
   "cell_type": "code",
   "execution_count": null,
   "metadata": {},
   "outputs": [],
   "source": []
  },
  {
   "cell_type": "code",
   "execution_count": null,
   "metadata": {},
   "outputs": [],
   "source": [
    "main=[]"
   ]
  },
  {
   "cell_type": "code",
   "execution_count": null,
   "metadata": {},
   "outputs": [],
   "source": []
  },
  {
   "cell_type": "code",
   "execution_count": null,
   "metadata": {},
   "outputs": [],
   "source": [
    "for i in pincodes:\n",
    "    print(i)"
   ]
  },
  {
   "cell_type": "code",
   "execution_count": null,
   "metadata": {},
   "outputs": [],
   "source": [
    "for i in pincodes:\n",
    "    pincode=str(i)\n",
    "    url='https://geocoder.ls.hereapi.com/6.2/geocode.json?searchtext='+pincode+'+IN&additionaldata=IncludeShapeLevel,postalCode&apiKey=mFonDaQ82ZDkoCcQxP5WzmqnqiAGNEm1_3R1DP3TfXs'\n",
    "    result=requests.get(url).json()\n",
    "    shape=result['Response']['View'][0]['Result'][0]['Location']['Shape']['Value']\n",
    "    x=[pincode,shape]\n",
    "    main.append(x)"
   ]
  },
  {
   "cell_type": "code",
   "execution_count": null,
   "metadata": {},
   "outputs": [],
   "source": [
    "df1 = pd.DataFrame(main, columns = ['postalCode', 'Shape']) "
   ]
  },
  {
   "cell_type": "code",
   "execution_count": null,
   "metadata": {},
   "outputs": [],
   "source": [
    "df1"
   ]
  },
  {
   "cell_type": "code",
   "execution_count": null,
   "metadata": {},
   "outputs": [],
   "source": [
    "df1.to_csv('shape.csv',index=False,header=True)"
   ]
  },
  {
   "cell_type": "code",
   "execution_count": null,
   "metadata": {},
   "outputs": [],
   "source": [
    "bb=pd.read_csv('shape.csv')"
   ]
  },
  {
   "cell_type": "code",
   "execution_count": null,
   "metadata": {},
   "outputs": [],
   "source": [
    "bb"
   ]
  },
  {
   "cell_type": "code",
   "execution_count": null,
   "metadata": {},
   "outputs": [],
   "source": [
    "p=561203"
   ]
  },
  {
   "cell_type": "code",
   "execution_count": null,
   "metadata": {},
   "outputs": [],
   "source": [
    "shape=bb.loc[bb['postalCode'] == p]['Shape']"
   ]
  },
  {
   "cell_type": "code",
   "execution_count": null,
   "metadata": {},
   "outputs": [],
   "source": [
    "shape"
   ]
  },
  {
   "cell_type": "code",
   "execution_count": null,
   "metadata": {},
   "outputs": [],
   "source": [
    "p=int(pincode[i])"
   ]
  },
  {
   "cell_type": "code",
   "execution_count": null,
   "metadata": {},
   "outputs": [],
   "source": [
    "p"
   ]
  },
  {
   "cell_type": "code",
   "execution_count": null,
   "metadata": {},
   "outputs": [],
   "source": [
    "df"
   ]
  },
  {
   "cell_type": "code",
   "execution_count": null,
   "metadata": {},
   "outputs": [],
   "source": [
    "x=df.loc[df['postalCode'] == p]"
   ]
  },
  {
   "cell_type": "code",
   "execution_count": null,
   "metadata": {},
   "outputs": [],
   "source": [
    "for i in x['Shape']:\n",
    "    print(i)"
   ]
  },
  {
   "cell_type": "code",
   "execution_count": null,
   "metadata": {},
   "outputs": [],
   "source": []
  },
  {
   "cell_type": "code",
   "execution_count": null,
   "metadata": {},
   "outputs": [],
   "source": [
    "pincode=['560029','560040']"
   ]
  },
  {
   "cell_type": "code",
   "execution_count": null,
   "metadata": {},
   "outputs": [],
   "source": [
    "shape=[x for x in range(0,len(pincode))]"
   ]
  },
  {
   "cell_type": "code",
   "execution_count": null,
   "metadata": {},
   "outputs": [],
   "source": [
    "df=pd.read_csv('shape.csv')"
   ]
  },
  {
   "cell_type": "code",
   "execution_count": null,
   "metadata": {},
   "outputs": [],
   "source": []
  },
  {
   "cell_type": "code",
   "execution_count": null,
   "metadata": {},
   "outputs": [],
   "source": []
  },
  {
   "cell_type": "code",
   "execution_count": null,
   "metadata": {},
   "outputs": [],
   "source": [
    "pincode=['560029','560040']\n",
    "shape=[x for x in range(0,len(pincode))]\n",
    "for i in range(0,len(pincode)):\n",
    "    df=pd.read_csv('shape.csv')\n",
    "    x=df.loc[df['postalCode'] == int(pincode[i])]\n",
    "    for i in x['Shape']:\n",
    "        print(i)"
   ]
  },
  {
   "cell_type": "code",
   "execution_count": null,
   "metadata": {},
   "outputs": [],
   "source": [
    "shape"
   ]
  },
  {
   "cell_type": "code",
   "execution_count": null,
   "metadata": {},
   "outputs": [],
   "source": [
    "pincode[i]"
   ]
  },
  {
   "cell_type": "code",
   "execution_count": null,
   "metadata": {},
   "outputs": [],
   "source": [
    "y={ \"name\":\"John\", \"age\":30, \"city\":\"New York\"}"
   ]
  },
  {
   "cell_type": "code",
   "execution_count": null,
   "metadata": {},
   "outputs": [],
   "source": [
    "y"
   ]
  },
  {
   "cell_type": "code",
   "execution_count": null,
   "metadata": {},
   "outputs": [],
   "source": [
    "value={}\n",
    "pincode=['560029','560040']\n",
    "shape=[x for x in range(0,len(pincode))]\n",
    "for i in range(0,len(pincode)):\n",
    "    df=pd.read_csv('shape.csv')\n",
    "    x=df.loc[df['postalCode'] == int(pincode[i])]\n",
    "    for j in x['Shape']:\n",
    "        value[int(pincode[i])]=j"
   ]
  },
  {
   "cell_type": "code",
   "execution_count": null,
   "metadata": {},
   "outputs": [],
   "source": [
    "value"
   ]
  },
  {
   "cell_type": "code",
   "execution_count": null,
   "metadata": {},
   "outputs": [],
   "source": [
    "result['Response']['View'][0]['Result'][0]['Location']['DisplayPosition']"
   ]
  },
  {
   "cell_type": "code",
   "execution_count": null,
   "metadata": {},
   "outputs": [],
   "source": [
    "display={'Latitude': 12.93807, 'Longitude': 77.74428}"
   ]
  },
  {
   "cell_type": "code",
   "execution_count": null,
   "metadata": {},
   "outputs": [],
   "source": [
    "pp=[['560017', [('Bellandur', 'Bengaluru')], 79.11], ['560026', [('Kempegowda Nagar', 'Bengaluru')], 78.63], ['560059', [('Nayandahalli', 'Bengaluru')], 77.06], ['560066', [('Thirumalasettihalli', 'Bengaluru Rural')], 76.81], ['560077', [('Dasarahalli', 'Bengaluru')], 73.73], ['560024', [('Sri Rampura', 'Bengaluru')], 71.1], ['560091', [('Maruthop', 'Bengaluru Rural')], 68.64], ['560027', [('Jayanagar', 'Bengaluru')], 67.21], ['560067', [('Sannatammanahalli', 'Bengaluru')], 67.02], ['560012', [('Science Institute Campus', 'Bengaluru')], 65.31], ['560027', [('Shanti Nagar', 'Bengaluru')], 64.69], ['560083', [('J P Nagar', 'Bengaluru')], 64.21], ['560006', [('Ganga Nagar', 'Bengaluru')], 63.91], ['560024', [('Nagavara', 'Bengaluru')], 63.86], ['560001', [('Vasanth Nagar', 'Bengaluru')], 63.44], ['560075', [('Indira Nagar', 'Bengaluru')], 61.64], ['560006', [('Sanjay Nagar', 'Bengaluru')], 61.15], ['560017', [('Kodihalli', 'Bengaluru')], 61.15], ['560001', [('Sampangi Rama Nagar', 'Bengaluru')], 60.58], ['560042', [('Frazer Town', 'Bengaluru')], 60.51], ['560006', [('Devasandra', 'Bengaluru')], 60.34], ['560007', [('Halasuru', 'Bengaluru')], 60.29], ['560108', [('J P Nagar', 'Bengaluru')], 59.36], ['560080', [('Sadashiva Nagar', 'Bengaluru')], 58.94], ['560076', [('Konankunte', 'Bengaluru')], 58.52], ['560077', [('Aduru', 'Bengaluru')], 58.52], ['560042', [('Halasuru', 'Bengaluru')], 58.11], ['560029', [('Koramangala', 'Bengaluru')], 57.83], ['560094', [('Ganga Nagar', 'Bengaluru')], 57.72], ['560001', [('Ashoka Nagar', 'Bengaluru')], 57.62], ['560091', [('Sannatammanahalli', 'Bengaluru Rural')], 57.58], ['560042', [('Ashok Nagar', 'Bengaluru')], 57.07], ['560070', [('J P Nagar', 'Bengaluru')], 56.71], ['560066', [('Varthur', 'Bengaluru Rural')], 56.43], ['560007', [('Austin Town', 'Bengaluru')], 56.22], ['560103', [('Hal', 'Bengaluru')], 56.13], ['560092', [('Dasarahalli', 'Bengaluru')], 56.05], ['560049', [('Aduru', 'Bengaluru')], 55.49], ['560034', [('HSR Layout', 'Bengaluru')], 54.99], ['560066', [('Varthur', 'Bengaluru')], 54.74], ['560046', [('DJ Halli', 'Bengaluru')], 54.64], ['560006', [('Ashwath Nagar', 'Bengaluru')], 54.33], ['560071', [('Indira Nagar', 'Bengaluru')], 54.29], ['560052', [('Vasanth Nagar', 'Bengaluru')], 54.24], ['560025', [('Richmond Town', 'Bengaluru')], 53.99], ['560060', [('Mylasandra', 'Bengaluru')], 53.78], ['560027', [('Sampangi Rama Nagar', 'Bengaluru')], 53.73], ['560039', [('Nagarabhavi', 'Bengaluru')], 53.55], ['560071', [('Domlur', 'Bengaluru')], 53.52], ['560103', [('Bellandur', 'Bengaluru')], 53.42], ['560007', [('Ashok Nagar', 'Bengaluru')], 53.28], ['560066', [('Doddanekundi', 'Bengaluru')], 52.49], ['560016', [('Mahadevapura', 'Bengaluru')], 52.43], ['560093', [('C V Raman Nagar', 'Bengaluru')], 52.36], ['560049', [('Sannatammanahalli', 'Bengaluru')], 52.32], ['560037', [('Bellandur', 'Bengaluru')], 52.09], ['560033', [('Bennigana Halli', 'Bengaluru')], 52.06], ['560027', [('Neelasandra', 'Bengaluru')], 52.01], ['560048', [('Doddanekundi', 'Bengaluru')], 51.55], ['560049', [('Maruthop', 'Bengaluru Rural')], 51.37], ['560108', [('Vajarahalli', 'Bengaluru')], 51.37], ['560011', [('Jayanagar', 'Bengaluru')], 51.33], ['560066', [('Hoodi', 'Bengaluru')], 50.68], ['560003', [('Malleshwaram', 'Bengaluru')], 50.58], ['560020', [('J. C. Nagar', 'Bengaluru')], 50.53], ['560034', [('Koramangala', 'Bengaluru')], 50.48], ['560059', [('Mylasandra', 'Bengaluru')], 50.1]]"
   ]
  },
  {
   "cell_type": "code",
   "execution_count": null,
   "metadata": {},
   "outputs": [],
   "source": [
    "for i in pp:\n",
    "    print(i[1][0][0])"
   ]
  },
  {
   "cell_type": "code",
   "execution_count": null,
   "metadata": {},
   "outputs": [],
   "source": [
    "i[1][0][0]"
   ]
  },
  {
   "cell_type": "code",
   "execution_count": null,
   "metadata": {
    "scrolled": true
   },
   "outputs": [],
   "source": [
    "df=pd.read_csv('loc_shape.csv')\n",
    "for i in range(0,len(locality)):\n",
    "    x=df.loc[df['locality'] == locality[0]]\n",
    "    for j in x['Shape']:\n",
    "        shape[i]=j\n",
    "    for k in x['Display']:\n",
    "        display[i]=k"
   ]
  },
  {
   "cell_type": "code",
   "execution_count": null,
   "metadata": {},
   "outputs": [],
   "source": [
    "locality=[\"Bellandur\", \"Kempegowda Nagar\", \"Nayandahalli\", \"Thirumalasettihalli\", \"Dasarahalli\", \"Sri Rampura\", \"Maruthop\", \"Jayanagar\", \"Sannatammanahalli\", \"Science Institute Campus\", \"Shanti Nagar\", \"J P Nagar\", \"Ganga Nagar\", \"Nagavara\", \"Vasanth Nagar\", \"Indira Nagar\", \"Sanjay Nagar\", \"Kodihalli\", \"Sampangi Rama Nagar\", \"Frazer Town\", \"Devasandra\", \"Halasuru\", \"J P Nagar\", \"Sadashiva Nagar\", \"Konankunte\", \"Aduru\", \"Halasuru\", \"Koramangala\", \"Ganga Nagar\", \"Ashoka Nagar\", \"Sannatammanahalli\", \"Ashok Nagar\", \"J P Nagar\", \"Varthur\", \"Austin Town\", \"Hal\", \"Dasarahalli\", \"Aduru\", \"HSR Layout\", \"Varthur\", \"DJ Halli\", \"Ashwath Nagar\", \"Indira Nagar\", \"Vasanth Nagar\", \"Richmond Town\", \"Mylasandra\", \"Sampangi Rama Nagar\", \"Nagarabhavi\", \"Domlur\", \"Bellandur\", \"Ashok Nagar\", \"Doddanekundi\", \"Mahadevapura\", \"C V Raman Nagar\", \"Sannatammanahalli\", \"Bellandur\", \"Bennigana Halli\", \"Neelasandra\", \"Doddanekundi\", \"Maruthop\", \"Vajarahalli\", \"Jayanagar\", \"Hoodi\", \"Malleshwaram\", \"J. C. Nagar\", \"Koramangala\", \"Mylasandra\"]"
   ]
  },
  {
   "cell_type": "code",
   "execution_count": null,
   "metadata": {},
   "outputs": [],
   "source": [
    "len(locality)"
   ]
  },
  {
   "cell_type": "code",
   "execution_count": null,
   "metadata": {
    "scrolled": true
   },
   "outputs": [],
   "source": [
    "len(set(locality))"
   ]
  },
  {
   "cell_type": "code",
   "execution_count": null,
   "metadata": {},
   "outputs": [],
   "source": [
    "shape=[x for x in range(0,len(locality))]\n",
    "display=[x for x in range(0,len(locality))]\n",
    "df=pd.read_csv('loc_shape.csv')\n",
    "for i in range(0,len(locality)):\n",
    "    x=df.loc[df['locality'] == locality[0]]\n",
    "    for j in x['Shape']:\n",
    "        shape[i]=j\n",
    "    for k in x['Display']:\n",
    "        display[i]=k"
   ]
  },
  {
   "cell_type": "code",
   "execution_count": null,
   "metadata": {},
   "outputs": [],
   "source": [
    "x=df.loc[df['locality'] == locality[0]]"
   ]
  },
  {
   "cell_type": "code",
   "execution_count": null,
   "metadata": {},
   "outputs": [],
   "source": []
  }
 ],
 "metadata": {
  "kernelspec": {
   "display_name": "Python 3",
   "language": "python",
   "name": "python3"
  },
  "language_info": {
   "codemirror_mode": {
    "name": "ipython",
    "version": 3
   },
   "file_extension": ".py",
   "mimetype": "text/x-python",
   "name": "python",
   "nbconvert_exporter": "python",
   "pygments_lexer": "ipython3",
   "version": "3.7.5"
  },
  "toc": {
   "base_numbering": 1,
   "nav_menu": {},
   "number_sections": true,
   "sideBar": true,
   "skip_h1_title": false,
   "title_cell": "Table of Contents",
   "title_sidebar": "Contents",
   "toc_cell": false,
   "toc_position": {},
   "toc_section_display": true,
   "toc_window_display": false
  },
  "varInspector": {
   "cols": {
    "lenName": 16,
    "lenType": 16,
    "lenVar": 40
   },
   "kernels_config": {
    "python": {
     "delete_cmd_postfix": "",
     "delete_cmd_prefix": "del ",
     "library": "var_list.py",
     "varRefreshCmd": "print(var_dic_list())"
    },
    "r": {
     "delete_cmd_postfix": ") ",
     "delete_cmd_prefix": "rm(",
     "library": "var_list.r",
     "varRefreshCmd": "cat(var_dic_list()) "
    }
   },
   "types_to_exclude": [
    "module",
    "function",
    "builtin_function_or_method",
    "instance",
    "_Feature"
   ],
   "window_display": false
  }
 },
 "nbformat": 4,
 "nbformat_minor": 4
}
