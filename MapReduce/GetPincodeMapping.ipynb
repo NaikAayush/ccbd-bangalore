{
 "cells": [
  {
   "cell_type": "code",
   "execution_count": 1,
   "metadata": {
    "ExecuteTime": {
     "end_time": "2020-04-27T06:59:26.612005Z",
     "start_time": "2020-04-27T06:59:26.609491Z"
    }
   },
   "outputs": [],
   "source": [
    "import pandas as pd"
   ]
  },
  {
   "cell_type": "code",
   "execution_count": 4,
   "metadata": {
    "ExecuteTime": {
     "end_time": "2020-04-27T06:59:50.182062Z",
     "start_time": "2020-04-27T06:59:49.462871Z"
    }
   },
   "outputs": [],
   "source": [
    "df = pd.read_csv(\"./FINAL_DATA_FILTERED.csv\", header=None)"
   ]
  },
  {
   "cell_type": "code",
   "execution_count": 5,
   "metadata": {
    "ExecuteTime": {
     "end_time": "2020-04-27T06:59:50.230836Z",
     "start_time": "2020-04-27T06:59:50.212058Z"
    }
   },
   "outputs": [
    {
     "data": {
      "text/html": [
       "<div>\n",
       "<style scoped>\n",
       "    .dataframe tbody tr th:only-of-type {\n",
       "        vertical-align: middle;\n",
       "    }\n",
       "\n",
       "    .dataframe tbody tr th {\n",
       "        vertical-align: top;\n",
       "    }\n",
       "\n",
       "    .dataframe thead th {\n",
       "        text-align: right;\n",
       "    }\n",
       "</style>\n",
       "<table border=\"1\" class=\"dataframe\">\n",
       "  <thead>\n",
       "    <tr style=\"text-align: right;\">\n",
       "      <th></th>\n",
       "      <th>0</th>\n",
       "      <th>1</th>\n",
       "      <th>2</th>\n",
       "      <th>3</th>\n",
       "      <th>4</th>\n",
       "      <th>5</th>\n",
       "      <th>6</th>\n",
       "    </tr>\n",
       "  </thead>\n",
       "  <tbody>\n",
       "    <tr>\n",
       "      <th>0</th>\n",
       "      <td>374832_374832_243022.jpg</td>\n",
       "      <td>13.016266</td>\n",
       "      <td>77.377052</td>\n",
       "      <td>Sondekoppa</td>\n",
       "      <td>Bengaluru Urban</td>\n",
       "      <td>23.201275</td>\n",
       "      <td>562123</td>\n",
       "    </tr>\n",
       "    <tr>\n",
       "      <th>1</th>\n",
       "      <td>374832_374832_243023.jpg</td>\n",
       "      <td>13.015597</td>\n",
       "      <td>77.377052</td>\n",
       "      <td>Sondekoppa</td>\n",
       "      <td>Bengaluru Urban</td>\n",
       "      <td>14.437103</td>\n",
       "      <td>562123</td>\n",
       "    </tr>\n",
       "    <tr>\n",
       "      <th>2</th>\n",
       "      <td>374832_374832_243024.jpg</td>\n",
       "      <td>13.014928</td>\n",
       "      <td>77.377052</td>\n",
       "      <td>Sondekoppa</td>\n",
       "      <td>Bengaluru Urban</td>\n",
       "      <td>17.146111</td>\n",
       "      <td>562123</td>\n",
       "    </tr>\n",
       "    <tr>\n",
       "      <th>3</th>\n",
       "      <td>374832_374832_243025.jpg</td>\n",
       "      <td>13.014259</td>\n",
       "      <td>77.377052</td>\n",
       "      <td>Sondekoppa</td>\n",
       "      <td>Bengaluru Urban</td>\n",
       "      <td>46.919823</td>\n",
       "      <td>562123</td>\n",
       "    </tr>\n",
       "    <tr>\n",
       "      <th>4</th>\n",
       "      <td>374832_374832_243026.jpg</td>\n",
       "      <td>13.013590</td>\n",
       "      <td>77.377052</td>\n",
       "      <td>Sondekoppa</td>\n",
       "      <td>Bengaluru Urban</td>\n",
       "      <td>37.316418</td>\n",
       "      <td>562123</td>\n",
       "    </tr>\n",
       "    <tr>\n",
       "      <th>...</th>\n",
       "      <td>...</td>\n",
       "      <td>...</td>\n",
       "      <td>...</td>\n",
       "      <td>...</td>\n",
       "      <td>...</td>\n",
       "      <td>...</td>\n",
       "      <td>...</td>\n",
       "    </tr>\n",
       "    <tr>\n",
       "      <th>440456</th>\n",
       "      <td>375588_375588_242884.jpg</td>\n",
       "      <td>13.108571</td>\n",
       "      <td>77.896156</td>\n",
       "      <td>Mugabala</td>\n",
       "      <td>Bangalore Rural</td>\n",
       "      <td>42.887497</td>\n",
       "      <td>562114</td>\n",
       "    </tr>\n",
       "    <tr>\n",
       "      <th>440457</th>\n",
       "      <td>375588_375588_242885.jpg</td>\n",
       "      <td>13.107902</td>\n",
       "      <td>77.896156</td>\n",
       "      <td>Mugabala</td>\n",
       "      <td>Bangalore Rural</td>\n",
       "      <td>43.653297</td>\n",
       "      <td>562114</td>\n",
       "    </tr>\n",
       "    <tr>\n",
       "      <th>440458</th>\n",
       "      <td>375588_375588_242886.jpg</td>\n",
       "      <td>13.107233</td>\n",
       "      <td>77.896156</td>\n",
       "      <td>Mugabala</td>\n",
       "      <td>Bangalore Rural</td>\n",
       "      <td>51.948357</td>\n",
       "      <td>562114</td>\n",
       "    </tr>\n",
       "    <tr>\n",
       "      <th>440459</th>\n",
       "      <td>375588_375588_242887.jpg</td>\n",
       "      <td>13.106564</td>\n",
       "      <td>77.896156</td>\n",
       "      <td>Mugabala</td>\n",
       "      <td>Bangalore Rural</td>\n",
       "      <td>70.409966</td>\n",
       "      <td>562114</td>\n",
       "    </tr>\n",
       "    <tr>\n",
       "      <th>440460</th>\n",
       "      <td>375588_375588_242888.jpg</td>\n",
       "      <td>13.105896</td>\n",
       "      <td>77.896156</td>\n",
       "      <td>Mugabala</td>\n",
       "      <td>Bangalore Rural</td>\n",
       "      <td>80.256176</td>\n",
       "      <td>562114</td>\n",
       "    </tr>\n",
       "  </tbody>\n",
       "</table>\n",
       "<p>440461 rows × 7 columns</p>\n",
       "</div>"
      ],
      "text/plain": [
       "                               0          1          2           3  \\\n",
       "0       374832_374832_243022.jpg  13.016266  77.377052  Sondekoppa   \n",
       "1       374832_374832_243023.jpg  13.015597  77.377052  Sondekoppa   \n",
       "2       374832_374832_243024.jpg  13.014928  77.377052  Sondekoppa   \n",
       "3       374832_374832_243025.jpg  13.014259  77.377052  Sondekoppa   \n",
       "4       374832_374832_243026.jpg  13.013590  77.377052  Sondekoppa   \n",
       "...                          ...        ...        ...         ...   \n",
       "440456  375588_375588_242884.jpg  13.108571  77.896156    Mugabala   \n",
       "440457  375588_375588_242885.jpg  13.107902  77.896156    Mugabala   \n",
       "440458  375588_375588_242886.jpg  13.107233  77.896156    Mugabala   \n",
       "440459  375588_375588_242887.jpg  13.106564  77.896156    Mugabala   \n",
       "440460  375588_375588_242888.jpg  13.105896  77.896156    Mugabala   \n",
       "\n",
       "                      4          5       6  \n",
       "0       Bengaluru Urban  23.201275  562123  \n",
       "1       Bengaluru Urban  14.437103  562123  \n",
       "2       Bengaluru Urban  17.146111  562123  \n",
       "3       Bengaluru Urban  46.919823  562123  \n",
       "4       Bengaluru Urban  37.316418  562123  \n",
       "...                 ...        ...     ...  \n",
       "440456  Bangalore Rural  42.887497  562114  \n",
       "440457  Bangalore Rural  43.653297  562114  \n",
       "440458  Bangalore Rural  51.948357  562114  \n",
       "440459  Bangalore Rural  70.409966  562114  \n",
       "440460  Bangalore Rural  80.256176  562114  \n",
       "\n",
       "[440461 rows x 7 columns]"
      ]
     },
     "execution_count": 5,
     "metadata": {},
     "output_type": "execute_result"
    }
   ],
   "source": [
    "df"
   ]
  },
  {
   "cell_type": "code",
   "execution_count": 14,
   "metadata": {
    "ExecuteTime": {
     "end_time": "2020-04-27T07:02:40.323471Z",
     "start_time": "2020-04-27T07:02:40.205726Z"
    }
   },
   "outputs": [],
   "source": [
    "unique_places = df.loc[:, [3, 4, 6]].drop_duplicates()"
   ]
  },
  {
   "cell_type": "code",
   "execution_count": 19,
   "metadata": {
    "ExecuteTime": {
     "end_time": "2020-04-27T07:03:18.795009Z",
     "start_time": "2020-04-27T07:03:18.790544Z"
    }
   },
   "outputs": [
    {
     "data": {
      "text/plain": [
       "1380"
      ]
     },
     "execution_count": 19,
     "metadata": {},
     "output_type": "execute_result"
    }
   ],
   "source": [
    "len(unique_places)"
   ]
  },
  {
   "cell_type": "code",
   "execution_count": 23,
   "metadata": {
    "ExecuteTime": {
     "end_time": "2020-04-27T07:04:52.575673Z",
     "start_time": "2020-04-27T07:04:52.559974Z"
    }
   },
   "outputs": [],
   "source": [
    "unique_places.dropna(subset=[6], inplace=True)"
   ]
  },
  {
   "cell_type": "code",
   "execution_count": 25,
   "metadata": {
    "ExecuteTime": {
     "end_time": "2020-04-27T07:05:22.197392Z",
     "start_time": "2020-04-27T07:05:22.188722Z"
    }
   },
   "outputs": [],
   "source": [
    "unique_places.set_index(6, inplace=True)"
   ]
  },
  {
   "cell_type": "code",
   "execution_count": 37,
   "metadata": {
    "ExecuteTime": {
     "end_time": "2020-04-27T07:09:51.864658Z",
     "start_time": "2020-04-27T07:09:51.838598Z"
    }
   },
   "outputs": [
    {
     "data": {
      "text/html": [
       "<div>\n",
       "<style scoped>\n",
       "    .dataframe tbody tr th:only-of-type {\n",
       "        vertical-align: middle;\n",
       "    }\n",
       "\n",
       "    .dataframe tbody tr th {\n",
       "        vertical-align: top;\n",
       "    }\n",
       "\n",
       "    .dataframe thead th {\n",
       "        text-align: right;\n",
       "    }\n",
       "</style>\n",
       "<table border=\"1\" class=\"dataframe\">\n",
       "  <thead>\n",
       "    <tr style=\"text-align: right;\">\n",
       "      <th></th>\n",
       "      <th>3</th>\n",
       "      <th>4</th>\n",
       "    </tr>\n",
       "    <tr>\n",
       "      <th>6</th>\n",
       "      <th></th>\n",
       "      <th></th>\n",
       "    </tr>\n",
       "  </thead>\n",
       "  <tbody>\n",
       "    <tr>\n",
       "      <th>562123</th>\n",
       "      <td>Sondekoppa</td>\n",
       "      <td>Bengaluru Urban</td>\n",
       "    </tr>\n",
       "    <tr>\n",
       "      <th>562162</th>\n",
       "      <td>Devamachahalli Narayanapura</td>\n",
       "      <td>Bengaluru Urban</td>\n",
       "    </tr>\n",
       "    <tr>\n",
       "      <th>562130</th>\n",
       "      <td>Devamachohalli</td>\n",
       "      <td>Bengaluru Urban</td>\n",
       "    </tr>\n",
       "    <tr>\n",
       "      <th>562130</th>\n",
       "      <td>Ganukal</td>\n",
       "      <td>Bengaluru Urban</td>\n",
       "    </tr>\n",
       "    <tr>\n",
       "      <th>560091</th>\n",
       "      <td>Muddanapalya Village</td>\n",
       "      <td>Bengaluru Urban</td>\n",
       "    </tr>\n",
       "    <tr>\n",
       "      <th>...</th>\n",
       "      <td>...</td>\n",
       "      <td>...</td>\n",
       "    </tr>\n",
       "    <tr>\n",
       "      <th>562114</th>\n",
       "      <td>Chinnandahalli</td>\n",
       "      <td>Bangalore Rural</td>\n",
       "    </tr>\n",
       "    <tr>\n",
       "      <th>142049</th>\n",
       "      <td>Tharaj Layout</td>\n",
       "      <td>Bangalore Rural</td>\n",
       "    </tr>\n",
       "    <tr>\n",
       "      <th>571475</th>\n",
       "      <td>Kodipura</td>\n",
       "      <td>Bangalore Rural</td>\n",
       "    </tr>\n",
       "    <tr>\n",
       "      <th>560066</th>\n",
       "      <td>Nagondanahalli</td>\n",
       "      <td>Bangalore Rural</td>\n",
       "    </tr>\n",
       "    <tr>\n",
       "      <th>560067</th>\n",
       "      <td>Belathur</td>\n",
       "      <td>Bangalore Rural</td>\n",
       "    </tr>\n",
       "  </tbody>\n",
       "</table>\n",
       "<p>1123 rows × 2 columns</p>\n",
       "</div>"
      ],
      "text/plain": [
       "                                  3                4\n",
       "6                                                   \n",
       "562123                   Sondekoppa  Bengaluru Urban\n",
       "562162  Devamachahalli Narayanapura  Bengaluru Urban\n",
       "562130               Devamachohalli  Bengaluru Urban\n",
       "562130                      Ganukal  Bengaluru Urban\n",
       "560091         Muddanapalya Village  Bengaluru Urban\n",
       "...                             ...              ...\n",
       "562114               Chinnandahalli  Bangalore Rural\n",
       "142049                Tharaj Layout  Bangalore Rural\n",
       "571475                     Kodipura  Bangalore Rural\n",
       "560066               Nagondanahalli  Bangalore Rural\n",
       "560067                     Belathur  Bangalore Rural\n",
       "\n",
       "[1123 rows x 2 columns]"
      ]
     },
     "execution_count": 37,
     "metadata": {},
     "output_type": "execute_result"
    }
   ],
   "source": [
    "unique_places"
   ]
  },
  {
   "cell_type": "code",
   "execution_count": 42,
   "metadata": {
    "ExecuteTime": {
     "end_time": "2020-04-27T07:12:05.829489Z",
     "start_time": "2020-04-27T07:12:05.817069Z"
    }
   },
   "outputs": [
    {
     "data": {
      "text/html": [
       "<div>\n",
       "<style scoped>\n",
       "    .dataframe tbody tr th:only-of-type {\n",
       "        vertical-align: middle;\n",
       "    }\n",
       "\n",
       "    .dataframe tbody tr th {\n",
       "        vertical-align: top;\n",
       "    }\n",
       "\n",
       "    .dataframe thead th {\n",
       "        text-align: right;\n",
       "    }\n",
       "</style>\n",
       "<table border=\"1\" class=\"dataframe\">\n",
       "  <thead>\n",
       "    <tr style=\"text-align: right;\">\n",
       "      <th></th>\n",
       "      <th>3</th>\n",
       "      <th>4</th>\n",
       "    </tr>\n",
       "    <tr>\n",
       "      <th>6</th>\n",
       "      <th></th>\n",
       "      <th></th>\n",
       "    </tr>\n",
       "  </thead>\n",
       "  <tbody>\n",
       "    <tr>\n",
       "      <th>560066</th>\n",
       "      <td>Ramagondanahalli North Taluka</td>\n",
       "      <td>Bengaluru Urban</td>\n",
       "    </tr>\n",
       "    <tr>\n",
       "      <th>560066</th>\n",
       "      <td>Basavanapura</td>\n",
       "      <td>Bengaluru Urban</td>\n",
       "    </tr>\n",
       "    <tr>\n",
       "      <th>560066</th>\n",
       "      <td>Whitefield</td>\n",
       "      <td>Bengaluru Urban</td>\n",
       "    </tr>\n",
       "    <tr>\n",
       "      <th>560066</th>\n",
       "      <td>Thubarahalli</td>\n",
       "      <td>Bengaluru Urban</td>\n",
       "    </tr>\n",
       "    <tr>\n",
       "      <th>560066</th>\n",
       "      <td>Hagadur</td>\n",
       "      <td>Bengaluru Urban</td>\n",
       "    </tr>\n",
       "    <tr>\n",
       "      <th>560066</th>\n",
       "      <td>Immadihalli</td>\n",
       "      <td>Bengaluru Urban</td>\n",
       "    </tr>\n",
       "    <tr>\n",
       "      <th>560066</th>\n",
       "      <td>Nagondanahalli</td>\n",
       "      <td>Bengaluru Urban</td>\n",
       "    </tr>\n",
       "    <tr>\n",
       "      <th>560066</th>\n",
       "      <td>Nagondanhalli</td>\n",
       "      <td>Bengaluru Urban</td>\n",
       "    </tr>\n",
       "    <tr>\n",
       "      <th>560066</th>\n",
       "      <td>Ramagondanahalli South Taluka</td>\n",
       "      <td>Bengaluru Urban</td>\n",
       "    </tr>\n",
       "    <tr>\n",
       "      <th>560066</th>\n",
       "      <td>Nagondanahalli</td>\n",
       "      <td>Bangalore Rural</td>\n",
       "    </tr>\n",
       "  </tbody>\n",
       "</table>\n",
       "</div>"
      ],
      "text/plain": [
       "                                    3                4\n",
       "6                                                     \n",
       "560066  Ramagondanahalli North Taluka  Bengaluru Urban\n",
       "560066                   Basavanapura  Bengaluru Urban\n",
       "560066                     Whitefield  Bengaluru Urban\n",
       "560066                   Thubarahalli  Bengaluru Urban\n",
       "560066                        Hagadur  Bengaluru Urban\n",
       "560066                    Immadihalli  Bengaluru Urban\n",
       "560066                 Nagondanahalli  Bengaluru Urban\n",
       "560066                  Nagondanhalli  Bengaluru Urban\n",
       "560066  Ramagondanahalli South Taluka  Bengaluru Urban\n",
       "560066                 Nagondanahalli  Bangalore Rural"
      ]
     },
     "execution_count": 42,
     "metadata": {},
     "output_type": "execute_result"
    }
   ],
   "source": [
    "unique_places.loc[\"560066\"]"
   ]
  },
  {
   "cell_type": "code",
   "execution_count": 44,
   "metadata": {
    "ExecuteTime": {
     "end_time": "2020-04-27T07:16:16.591767Z",
     "start_time": "2020-04-27T07:16:16.582232Z"
    }
   },
   "outputs": [
    {
     "name": "stdout",
     "output_type": "stream",
     "text": [
      "Ramagondanahalli North Taluka Bengaluru Urban\n",
      "Basavanapura Bengaluru Urban\n",
      "Whitefield Bengaluru Urban\n",
      "Thubarahalli Bengaluru Urban\n",
      "Hagadur Bengaluru Urban\n",
      "Immadihalli Bengaluru Urban\n",
      "Nagondanahalli Bengaluru Urban\n",
      "Nagondanhalli Bengaluru Urban\n",
      "Ramagondanahalli South Taluka Bengaluru Urban\n",
      "Nagondanahalli Bangalore Rural\n"
     ]
    }
   ],
   "source": [
    "for i, j in zip(unique_places.loc[\"560066\"][3], unique_places.loc[\"560066\"][4]):\n",
    "    print(i, j)"
   ]
  },
  {
   "cell_type": "code",
   "execution_count": 50,
   "metadata": {
    "ExecuteTime": {
     "end_time": "2020-04-27T07:50:53.065879Z",
     "start_time": "2020-04-27T07:50:53.058670Z"
    }
   },
   "outputs": [],
   "source": [
    "unique_places.to_csv(\"pincode_locality_mapping.csv\", header=None, index=True)"
   ]
  },
  {
   "cell_type": "code",
   "execution_count": 51,
   "metadata": {
    "ExecuteTime": {
     "end_time": "2020-04-27T07:50:53.686965Z",
     "start_time": "2020-04-27T07:50:53.669587Z"
    }
   },
   "outputs": [],
   "source": [
    "pincode_locality_mapping = pd.read_csv(\"./pincode_locality_mapping.csv\", header=None)"
   ]
  },
  {
   "cell_type": "code",
   "execution_count": 54,
   "metadata": {
    "ExecuteTime": {
     "end_time": "2020-04-27T07:51:10.040876Z",
     "start_time": "2020-04-27T07:51:10.032338Z"
    }
   },
   "outputs": [],
   "source": [
    "pincode_locality_mapping.set_index(0, inplace=True)"
   ]
  },
  {
   "cell_type": "code",
   "execution_count": 55,
   "metadata": {
    "ExecuteTime": {
     "end_time": "2020-04-27T07:51:13.340399Z",
     "start_time": "2020-04-27T07:51:13.330778Z"
    }
   },
   "outputs": [
    {
     "data": {
      "text/html": [
       "<div>\n",
       "<style scoped>\n",
       "    .dataframe tbody tr th:only-of-type {\n",
       "        vertical-align: middle;\n",
       "    }\n",
       "\n",
       "    .dataframe tbody tr th {\n",
       "        vertical-align: top;\n",
       "    }\n",
       "\n",
       "    .dataframe thead th {\n",
       "        text-align: right;\n",
       "    }\n",
       "</style>\n",
       "<table border=\"1\" class=\"dataframe\">\n",
       "  <thead>\n",
       "    <tr style=\"text-align: right;\">\n",
       "      <th></th>\n",
       "      <th>1</th>\n",
       "      <th>2</th>\n",
       "    </tr>\n",
       "    <tr>\n",
       "      <th>0</th>\n",
       "      <th></th>\n",
       "      <th></th>\n",
       "    </tr>\n",
       "  </thead>\n",
       "  <tbody>\n",
       "    <tr>\n",
       "      <th>562123</th>\n",
       "      <td>Sondekoppa</td>\n",
       "      <td>Bengaluru Urban</td>\n",
       "    </tr>\n",
       "    <tr>\n",
       "      <th>562162</th>\n",
       "      <td>Devamachahalli Narayanapura</td>\n",
       "      <td>Bengaluru Urban</td>\n",
       "    </tr>\n",
       "    <tr>\n",
       "      <th>562130</th>\n",
       "      <td>Devamachohalli</td>\n",
       "      <td>Bengaluru Urban</td>\n",
       "    </tr>\n",
       "    <tr>\n",
       "      <th>562130</th>\n",
       "      <td>Ganukal</td>\n",
       "      <td>Bengaluru Urban</td>\n",
       "    </tr>\n",
       "    <tr>\n",
       "      <th>560091</th>\n",
       "      <td>Muddanapalya Village</td>\n",
       "      <td>Bengaluru Urban</td>\n",
       "    </tr>\n",
       "    <tr>\n",
       "      <th>...</th>\n",
       "      <td>...</td>\n",
       "      <td>...</td>\n",
       "    </tr>\n",
       "    <tr>\n",
       "      <th>562114</th>\n",
       "      <td>Chinnandahalli</td>\n",
       "      <td>Bangalore Rural</td>\n",
       "    </tr>\n",
       "    <tr>\n",
       "      <th>142049</th>\n",
       "      <td>Tharaj Layout</td>\n",
       "      <td>Bangalore Rural</td>\n",
       "    </tr>\n",
       "    <tr>\n",
       "      <th>571475</th>\n",
       "      <td>Kodipura</td>\n",
       "      <td>Bangalore Rural</td>\n",
       "    </tr>\n",
       "    <tr>\n",
       "      <th>560066</th>\n",
       "      <td>Nagondanahalli</td>\n",
       "      <td>Bangalore Rural</td>\n",
       "    </tr>\n",
       "    <tr>\n",
       "      <th>560067</th>\n",
       "      <td>Belathur</td>\n",
       "      <td>Bangalore Rural</td>\n",
       "    </tr>\n",
       "  </tbody>\n",
       "</table>\n",
       "<p>1123 rows × 2 columns</p>\n",
       "</div>"
      ],
      "text/plain": [
       "                                  1                2\n",
       "0                                                   \n",
       "562123                   Sondekoppa  Bengaluru Urban\n",
       "562162  Devamachahalli Narayanapura  Bengaluru Urban\n",
       "562130               Devamachohalli  Bengaluru Urban\n",
       "562130                      Ganukal  Bengaluru Urban\n",
       "560091         Muddanapalya Village  Bengaluru Urban\n",
       "...                             ...              ...\n",
       "562114               Chinnandahalli  Bangalore Rural\n",
       "142049                Tharaj Layout  Bangalore Rural\n",
       "571475                     Kodipura  Bangalore Rural\n",
       "560066               Nagondanahalli  Bangalore Rural\n",
       "560067                     Belathur  Bangalore Rural\n",
       "\n",
       "[1123 rows x 2 columns]"
      ]
     },
     "execution_count": 55,
     "metadata": {},
     "output_type": "execute_result"
    }
   ],
   "source": [
    "pincode_locality_mapping"
   ]
  },
  {
   "cell_type": "code",
   "execution_count": 61,
   "metadata": {
    "ExecuteTime": {
     "end_time": "2020-04-27T08:05:37.598538Z",
     "start_time": "2020-04-27T08:05:37.588995Z"
    }
   },
   "outputs": [
    {
     "name": "stdout",
     "output_type": "stream",
     "text": [
      "Karnpalya Bengaluru Urban\n",
      "Subramanyapura Bengaluru Urban\n",
      "Kodipur Bengaluru Urban\n",
      "Uttarahalli Bengaluru Urban\n",
      "Vasantapura Bengaluru Urban\n",
      "Chikkalsandra Bengaluru Urban\n",
      "Uttarahalli South Bengaluru Urban\n",
      "Padmanabhanagar Bengaluru Urban\n",
      "Saravabhomya Nagar Bengaluru Urban\n",
      "Hittharahalli Bengaluru Urban\n",
      "Gowdanapalya Bengaluru Urban\n",
      "Hittharahalli Bangalore Rural\n"
     ]
    }
   ],
   "source": [
    "for i, j in zip(pincode_locality_mapping.loc[\"560061\"][1], pincode_locality_mapping.loc[\"560061\"][2]):\n",
    "    print(i, j)"
   ]
  },
  {
   "cell_type": "code",
   "execution_count": 62,
   "metadata": {
    "ExecuteTime": {
     "end_time": "2020-04-27T08:05:47.934300Z",
     "start_time": "2020-04-27T08:05:47.918366Z"
    }
   },
   "outputs": [],
   "source": [
    "pincode_locality_mapper = pd.read_csv(\"./pincode_locality_mapping.csv\", header=None)"
   ]
  },
  {
   "cell_type": "code",
   "execution_count": 63,
   "metadata": {
    "ExecuteTime": {
     "end_time": "2020-04-27T08:05:53.856459Z",
     "start_time": "2020-04-27T08:05:53.845910Z"
    }
   },
   "outputs": [],
   "source": [
    "pincode_locality_mapper.set_index(0, inplace=True)"
   ]
  },
  {
   "cell_type": "code",
   "execution_count": 66,
   "metadata": {
    "ExecuteTime": {
     "end_time": "2020-04-27T08:06:59.491463Z",
     "start_time": "2020-04-27T08:06:59.488605Z"
    }
   },
   "outputs": [],
   "source": [
    "pincode = \"344022\""
   ]
  },
  {
   "cell_type": "code",
   "execution_count": 73,
   "metadata": {
    "ExecuteTime": {
     "end_time": "2020-04-27T08:08:23.129809Z",
     "start_time": "2020-04-27T08:08:23.114101Z"
    }
   },
   "outputs": [
    {
     "name": "stdout",
     "output_type": "stream",
     "text": [
      "('Gandhipura', 'Bengaluru Urban')\n"
     ]
    }
   ],
   "source": [
    "for sub_district, district in zip(pincode_locality_mapper.loc[[pincode]][1], pincode_locality_mapper.loc[[pincode]][2]):\n",
    "    print((sub_district, district))"
   ]
  },
  {
   "cell_type": "code",
   "execution_count": null,
   "metadata": {},
   "outputs": [],
   "source": []
  }
 ],
 "metadata": {
  "kernelspec": {
   "display_name": "Python 3",
   "language": "python",
   "name": "python3"
  },
  "language_info": {
   "codemirror_mode": {
    "name": "ipython",
    "version": 3
   },
   "file_extension": ".py",
   "mimetype": "text/x-python",
   "name": "python",
   "nbconvert_exporter": "python",
   "pygments_lexer": "ipython3",
   "version": "3.7.5"
  },
  "toc": {
   "base_numbering": 1,
   "nav_menu": {},
   "number_sections": true,
   "sideBar": true,
   "skip_h1_title": false,
   "title_cell": "Table of Contents",
   "title_sidebar": "Contents",
   "toc_cell": false,
   "toc_position": {},
   "toc_section_display": true,
   "toc_window_display": false
  },
  "varInspector": {
   "cols": {
    "lenName": 16,
    "lenType": 16,
    "lenVar": 40
   },
   "kernels_config": {
    "python": {
     "delete_cmd_postfix": "",
     "delete_cmd_prefix": "del ",
     "library": "var_list.py",
     "varRefreshCmd": "print(var_dic_list())"
    },
    "r": {
     "delete_cmd_postfix": ") ",
     "delete_cmd_prefix": "rm(",
     "library": "var_list.r",
     "varRefreshCmd": "cat(var_dic_list()) "
    }
   },
   "types_to_exclude": [
    "module",
    "function",
    "builtin_function_or_method",
    "instance",
    "_Feature"
   ],
   "window_display": false
  }
 },
 "nbformat": 4,
 "nbformat_minor": 4
}
