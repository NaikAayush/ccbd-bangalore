{
 "cells": [
  {
   "cell_type": "code",
   "execution_count": 1,
   "metadata": {
    "ExecuteTime": {
     "end_time": "2020-04-26T18:39:41.695920Z",
     "start_time": "2020-04-26T18:39:41.692826Z"
    }
   },
   "outputs": [],
   "source": [
    "import pandas as pd"
   ]
  },
  {
   "cell_type": "code",
   "execution_count": 2,
   "metadata": {
    "ExecuteTime": {
     "end_time": "2020-04-26T18:39:43.366760Z",
     "start_time": "2020-04-26T18:39:42.896552Z"
    }
   },
   "outputs": [],
   "source": [
    "greens_df = pd.read_csv(\"./output.csv\", header=None, names=[\"ImageFileName\", \"Green\"])"
   ]
  },
  {
   "cell_type": "code",
   "execution_count": 3,
   "metadata": {
    "ExecuteTime": {
     "end_time": "2020-04-26T18:39:43.927319Z",
     "start_time": "2020-04-26T18:39:43.901793Z"
    }
   },
   "outputs": [
    {
     "data": {
      "text/html": [
       "<div>\n",
       "<style scoped>\n",
       "    .dataframe tbody tr th:only-of-type {\n",
       "        vertical-align: middle;\n",
       "    }\n",
       "\n",
       "    .dataframe tbody tr th {\n",
       "        vertical-align: top;\n",
       "    }\n",
       "\n",
       "    .dataframe thead th {\n",
       "        text-align: right;\n",
       "    }\n",
       "</style>\n",
       "<table border=\"1\" class=\"dataframe\">\n",
       "  <thead>\n",
       "    <tr style=\"text-align: right;\">\n",
       "      <th></th>\n",
       "      <th>ImageFileName</th>\n",
       "      <th>Green</th>\n",
       "    </tr>\n",
       "  </thead>\n",
       "  <tbody>\n",
       "    <tr>\n",
       "      <th>0</th>\n",
       "      <td>374832_374832_242793.jpg</td>\n",
       "      <td>0.016785</td>\n",
       "    </tr>\n",
       "    <tr>\n",
       "      <th>1</th>\n",
       "      <td>374832_374832_242801.jpg</td>\n",
       "      <td>0.000000</td>\n",
       "    </tr>\n",
       "    <tr>\n",
       "      <th>2</th>\n",
       "      <td>374832_374832_242809.jpg</td>\n",
       "      <td>0.518417</td>\n",
       "    </tr>\n",
       "    <tr>\n",
       "      <th>3</th>\n",
       "      <td>374832_374832_242817.jpg</td>\n",
       "      <td>0.002670</td>\n",
       "    </tr>\n",
       "    <tr>\n",
       "      <th>4</th>\n",
       "      <td>374832_374832_242825.jpg</td>\n",
       "      <td>3.628826</td>\n",
       "    </tr>\n",
       "    <tr>\n",
       "      <th>...</th>\n",
       "      <td>...</td>\n",
       "      <td>...</td>\n",
       "    </tr>\n",
       "    <tr>\n",
       "      <th>538126</th>\n",
       "      <td>375590_375590_243466.jpg</td>\n",
       "      <td>71.113014</td>\n",
       "    </tr>\n",
       "    <tr>\n",
       "      <th>538127</th>\n",
       "      <td>375590_375590_243474.jpg</td>\n",
       "      <td>38.888359</td>\n",
       "    </tr>\n",
       "    <tr>\n",
       "      <th>538128</th>\n",
       "      <td>375590_375590_243482.jpg</td>\n",
       "      <td>48.880482</td>\n",
       "    </tr>\n",
       "    <tr>\n",
       "      <th>538129</th>\n",
       "      <td>375590_375590_243490.jpg</td>\n",
       "      <td>73.212433</td>\n",
       "    </tr>\n",
       "    <tr>\n",
       "      <th>538130</th>\n",
       "      <td>375590_375590_243498.jpg</td>\n",
       "      <td>95.406437</td>\n",
       "    </tr>\n",
       "  </tbody>\n",
       "</table>\n",
       "<p>538131 rows × 2 columns</p>\n",
       "</div>"
      ],
      "text/plain": [
       "                   ImageFileName      Green\n",
       "0       374832_374832_242793.jpg   0.016785\n",
       "1       374832_374832_242801.jpg   0.000000\n",
       "2       374832_374832_242809.jpg   0.518417\n",
       "3       374832_374832_242817.jpg   0.002670\n",
       "4       374832_374832_242825.jpg   3.628826\n",
       "...                          ...        ...\n",
       "538126  375590_375590_243466.jpg  71.113014\n",
       "538127  375590_375590_243474.jpg  38.888359\n",
       "538128  375590_375590_243482.jpg  48.880482\n",
       "538129  375590_375590_243490.jpg  73.212433\n",
       "538130  375590_375590_243498.jpg  95.406437\n",
       "\n",
       "[538131 rows x 2 columns]"
      ]
     },
     "execution_count": 3,
     "metadata": {},
     "output_type": "execute_result"
    }
   ],
   "source": [
    "greens_df"
   ]
  },
  {
   "cell_type": "code",
   "execution_count": 6,
   "metadata": {
    "ExecuteTime": {
     "end_time": "2020-04-26T18:41:06.105768Z",
     "start_time": "2020-04-26T18:41:05.759181Z"
    }
   },
   "outputs": [],
   "source": [
    "locations_df = pd.read_csv(\"./output__incomplete.csv\", header=None,\n",
    "                          names=[\"ImageFileName\", \"lat\", \"lon\", \"loc1\", \"loc2\"])"
   ]
  },
  {
   "cell_type": "code",
   "execution_count": 7,
   "metadata": {
    "ExecuteTime": {
     "end_time": "2020-04-26T18:41:06.166992Z",
     "start_time": "2020-04-26T18:41:06.146376Z"
    }
   },
   "outputs": [
    {
     "data": {
      "text/html": [
       "<div>\n",
       "<style scoped>\n",
       "    .dataframe tbody tr th:only-of-type {\n",
       "        vertical-align: middle;\n",
       "    }\n",
       "\n",
       "    .dataframe tbody tr th {\n",
       "        vertical-align: top;\n",
       "    }\n",
       "\n",
       "    .dataframe thead th {\n",
       "        text-align: right;\n",
       "    }\n",
       "</style>\n",
       "<table border=\"1\" class=\"dataframe\">\n",
       "  <thead>\n",
       "    <tr style=\"text-align: right;\">\n",
       "      <th></th>\n",
       "      <th>ImageFileName</th>\n",
       "      <th>lat</th>\n",
       "      <th>lon</th>\n",
       "      <th>loc1</th>\n",
       "      <th>loc2</th>\n",
       "    </tr>\n",
       "  </thead>\n",
       "  <tbody>\n",
       "    <tr>\n",
       "      <th>0</th>\n",
       "      <td>374832_374832_242793.jpg</td>\n",
       "      <td>13.169420</td>\n",
       "      <td>77.377052</td>\n",
       "      <td>Bardi</td>\n",
       "      <td>Bangalore Rural</td>\n",
       "    </tr>\n",
       "    <tr>\n",
       "      <th>1</th>\n",
       "      <td>374832_374832_242794.jpg</td>\n",
       "      <td>13.168751</td>\n",
       "      <td>77.377052</td>\n",
       "      <td>Bardi</td>\n",
       "      <td>Bangalore Rural</td>\n",
       "    </tr>\n",
       "    <tr>\n",
       "      <th>2</th>\n",
       "      <td>374832_374832_242795.jpg</td>\n",
       "      <td>13.168083</td>\n",
       "      <td>77.377052</td>\n",
       "      <td>Bardi</td>\n",
       "      <td>Bangalore Rural</td>\n",
       "    </tr>\n",
       "    <tr>\n",
       "      <th>3</th>\n",
       "      <td>374832_374832_242796.jpg</td>\n",
       "      <td>13.167414</td>\n",
       "      <td>77.377052</td>\n",
       "      <td>Bardi</td>\n",
       "      <td>Bangalore Rural</td>\n",
       "    </tr>\n",
       "    <tr>\n",
       "      <th>4</th>\n",
       "      <td>374832_374832_242797.jpg</td>\n",
       "      <td>13.166745</td>\n",
       "      <td>77.377052</td>\n",
       "      <td>Bardi</td>\n",
       "      <td>Bangalore Rural</td>\n",
       "    </tr>\n",
       "    <tr>\n",
       "      <th>...</th>\n",
       "      <td>...</td>\n",
       "      <td>...</td>\n",
       "      <td>...</td>\n",
       "      <td>...</td>\n",
       "      <td>...</td>\n",
       "    </tr>\n",
       "    <tr>\n",
       "      <th>284656</th>\n",
       "      <td>375452_375452_243238.jpg</td>\n",
       "      <td>12.871719</td>\n",
       "      <td>77.802773</td>\n",
       "      <td>Mahal Chowdadenahalli</td>\n",
       "      <td>Bengaluru Urban</td>\n",
       "    </tr>\n",
       "    <tr>\n",
       "      <th>284657</th>\n",
       "      <td>375452_375452_243239.jpg</td>\n",
       "      <td>12.871050</td>\n",
       "      <td>77.802773</td>\n",
       "      <td>Sarjapura</td>\n",
       "      <td>Bengaluru Urban</td>\n",
       "    </tr>\n",
       "    <tr>\n",
       "      <th>284658</th>\n",
       "      <td>375452_375452_243240.jpg</td>\n",
       "      <td>12.870380</td>\n",
       "      <td>77.802773</td>\n",
       "      <td>Sarjapura</td>\n",
       "      <td>Bengaluru Urban</td>\n",
       "    </tr>\n",
       "    <tr>\n",
       "      <th>284659</th>\n",
       "      <td>375452_375452_243241.jpg</td>\n",
       "      <td>12.869711</td>\n",
       "      <td>77.802773</td>\n",
       "      <td>Sarjapura</td>\n",
       "      <td>Bengaluru Urban</td>\n",
       "    </tr>\n",
       "    <tr>\n",
       "      <th>284660</th>\n",
       "      <td>375452_375452_243242.jpg</td>\n",
       "      <td>12.869041</td>\n",
       "      <td>77.802773</td>\n",
       "      <td>Sarjapura</td>\n",
       "      <td>Bengaluru Urban</td>\n",
       "    </tr>\n",
       "  </tbody>\n",
       "</table>\n",
       "<p>284661 rows × 5 columns</p>\n",
       "</div>"
      ],
      "text/plain": [
       "                   ImageFileName        lat        lon                   loc1  \\\n",
       "0       374832_374832_242793.jpg  13.169420  77.377052                  Bardi   \n",
       "1       374832_374832_242794.jpg  13.168751  77.377052                  Bardi   \n",
       "2       374832_374832_242795.jpg  13.168083  77.377052                  Bardi   \n",
       "3       374832_374832_242796.jpg  13.167414  77.377052                  Bardi   \n",
       "4       374832_374832_242797.jpg  13.166745  77.377052                  Bardi   \n",
       "...                          ...        ...        ...                    ...   \n",
       "284656  375452_375452_243238.jpg  12.871719  77.802773  Mahal Chowdadenahalli   \n",
       "284657  375452_375452_243239.jpg  12.871050  77.802773              Sarjapura   \n",
       "284658  375452_375452_243240.jpg  12.870380  77.802773              Sarjapura   \n",
       "284659  375452_375452_243241.jpg  12.869711  77.802773              Sarjapura   \n",
       "284660  375452_375452_243242.jpg  12.869041  77.802773              Sarjapura   \n",
       "\n",
       "                   loc2  \n",
       "0       Bangalore Rural  \n",
       "1       Bangalore Rural  \n",
       "2       Bangalore Rural  \n",
       "3       Bangalore Rural  \n",
       "4       Bangalore Rural  \n",
       "...                 ...  \n",
       "284656  Bengaluru Urban  \n",
       "284657  Bengaluru Urban  \n",
       "284658  Bengaluru Urban  \n",
       "284659  Bengaluru Urban  \n",
       "284660  Bengaluru Urban  \n",
       "\n",
       "[284661 rows x 5 columns]"
      ]
     },
     "execution_count": 7,
     "metadata": {},
     "output_type": "execute_result"
    }
   ],
   "source": [
    "locations_df"
   ]
  },
  {
   "cell_type": "code",
   "execution_count": 8,
   "metadata": {
    "ExecuteTime": {
     "end_time": "2020-04-26T18:41:15.633493Z",
     "start_time": "2020-04-26T18:41:15.255820Z"
    }
   },
   "outputs": [],
   "source": [
    "combined_df = pd.merge(locations_df, greens_df, on=\"ImageFileName\")"
   ]
  },
  {
   "cell_type": "code",
   "execution_count": 9,
   "metadata": {
    "ExecuteTime": {
     "end_time": "2020-04-26T18:41:16.178203Z",
     "start_time": "2020-04-26T18:41:16.149778Z"
    }
   },
   "outputs": [
    {
     "data": {
      "text/html": [
       "<div>\n",
       "<style scoped>\n",
       "    .dataframe tbody tr th:only-of-type {\n",
       "        vertical-align: middle;\n",
       "    }\n",
       "\n",
       "    .dataframe tbody tr th {\n",
       "        vertical-align: top;\n",
       "    }\n",
       "\n",
       "    .dataframe thead th {\n",
       "        text-align: right;\n",
       "    }\n",
       "</style>\n",
       "<table border=\"1\" class=\"dataframe\">\n",
       "  <thead>\n",
       "    <tr style=\"text-align: right;\">\n",
       "      <th></th>\n",
       "      <th>ImageFileName</th>\n",
       "      <th>lat</th>\n",
       "      <th>lon</th>\n",
       "      <th>loc1</th>\n",
       "      <th>loc2</th>\n",
       "      <th>Green</th>\n",
       "    </tr>\n",
       "  </thead>\n",
       "  <tbody>\n",
       "    <tr>\n",
       "      <th>0</th>\n",
       "      <td>374832_374832_242793.jpg</td>\n",
       "      <td>13.169420</td>\n",
       "      <td>77.377052</td>\n",
       "      <td>Bardi</td>\n",
       "      <td>Bangalore Rural</td>\n",
       "      <td>0.016785</td>\n",
       "    </tr>\n",
       "    <tr>\n",
       "      <th>1</th>\n",
       "      <td>374832_374832_242794.jpg</td>\n",
       "      <td>13.168751</td>\n",
       "      <td>77.377052</td>\n",
       "      <td>Bardi</td>\n",
       "      <td>Bangalore Rural</td>\n",
       "      <td>6.078339</td>\n",
       "    </tr>\n",
       "    <tr>\n",
       "      <th>2</th>\n",
       "      <td>374832_374832_242795.jpg</td>\n",
       "      <td>13.168083</td>\n",
       "      <td>77.377052</td>\n",
       "      <td>Bardi</td>\n",
       "      <td>Bangalore Rural</td>\n",
       "      <td>4.986191</td>\n",
       "    </tr>\n",
       "    <tr>\n",
       "      <th>3</th>\n",
       "      <td>374832_374832_242796.jpg</td>\n",
       "      <td>13.167414</td>\n",
       "      <td>77.377052</td>\n",
       "      <td>Bardi</td>\n",
       "      <td>Bangalore Rural</td>\n",
       "      <td>26.789761</td>\n",
       "    </tr>\n",
       "    <tr>\n",
       "      <th>4</th>\n",
       "      <td>374832_374832_242797.jpg</td>\n",
       "      <td>13.166745</td>\n",
       "      <td>77.377052</td>\n",
       "      <td>Bardi</td>\n",
       "      <td>Bangalore Rural</td>\n",
       "      <td>37.653446</td>\n",
       "    </tr>\n",
       "    <tr>\n",
       "      <th>...</th>\n",
       "      <td>...</td>\n",
       "      <td>...</td>\n",
       "      <td>...</td>\n",
       "      <td>...</td>\n",
       "      <td>...</td>\n",
       "      <td>...</td>\n",
       "    </tr>\n",
       "    <tr>\n",
       "      <th>284656</th>\n",
       "      <td>375452_375452_243240.jpg</td>\n",
       "      <td>12.870380</td>\n",
       "      <td>77.802773</td>\n",
       "      <td>Sarjapura</td>\n",
       "      <td>Bengaluru Urban</td>\n",
       "      <td>2.929878</td>\n",
       "    </tr>\n",
       "    <tr>\n",
       "      <th>284657</th>\n",
       "      <td>375452_375452_243241.jpg</td>\n",
       "      <td>12.869711</td>\n",
       "      <td>77.802773</td>\n",
       "      <td>Sarjapura</td>\n",
       "      <td>Bengaluru Urban</td>\n",
       "      <td>14.162827</td>\n",
       "    </tr>\n",
       "    <tr>\n",
       "      <th>284658</th>\n",
       "      <td>375452_375452_243241.jpg</td>\n",
       "      <td>12.869711</td>\n",
       "      <td>77.802773</td>\n",
       "      <td>Sarjapura</td>\n",
       "      <td>Bengaluru Urban</td>\n",
       "      <td>14.162827</td>\n",
       "    </tr>\n",
       "    <tr>\n",
       "      <th>284659</th>\n",
       "      <td>375452_375452_243242.jpg</td>\n",
       "      <td>12.869041</td>\n",
       "      <td>77.802773</td>\n",
       "      <td>Sarjapura</td>\n",
       "      <td>Bengaluru Urban</td>\n",
       "      <td>3.155994</td>\n",
       "    </tr>\n",
       "    <tr>\n",
       "      <th>284660</th>\n",
       "      <td>375452_375452_243242.jpg</td>\n",
       "      <td>12.869041</td>\n",
       "      <td>77.802773</td>\n",
       "      <td>Sarjapura</td>\n",
       "      <td>Bengaluru Urban</td>\n",
       "      <td>3.155994</td>\n",
       "    </tr>\n",
       "  </tbody>\n",
       "</table>\n",
       "<p>284661 rows × 6 columns</p>\n",
       "</div>"
      ],
      "text/plain": [
       "                   ImageFileName        lat        lon       loc1  \\\n",
       "0       374832_374832_242793.jpg  13.169420  77.377052      Bardi   \n",
       "1       374832_374832_242794.jpg  13.168751  77.377052      Bardi   \n",
       "2       374832_374832_242795.jpg  13.168083  77.377052      Bardi   \n",
       "3       374832_374832_242796.jpg  13.167414  77.377052      Bardi   \n",
       "4       374832_374832_242797.jpg  13.166745  77.377052      Bardi   \n",
       "...                          ...        ...        ...        ...   \n",
       "284656  375452_375452_243240.jpg  12.870380  77.802773  Sarjapura   \n",
       "284657  375452_375452_243241.jpg  12.869711  77.802773  Sarjapura   \n",
       "284658  375452_375452_243241.jpg  12.869711  77.802773  Sarjapura   \n",
       "284659  375452_375452_243242.jpg  12.869041  77.802773  Sarjapura   \n",
       "284660  375452_375452_243242.jpg  12.869041  77.802773  Sarjapura   \n",
       "\n",
       "                   loc2      Green  \n",
       "0       Bangalore Rural   0.016785  \n",
       "1       Bangalore Rural   6.078339  \n",
       "2       Bangalore Rural   4.986191  \n",
       "3       Bangalore Rural  26.789761  \n",
       "4       Bangalore Rural  37.653446  \n",
       "...                 ...        ...  \n",
       "284656  Bengaluru Urban   2.929878  \n",
       "284657  Bengaluru Urban  14.162827  \n",
       "284658  Bengaluru Urban  14.162827  \n",
       "284659  Bengaluru Urban   3.155994  \n",
       "284660  Bengaluru Urban   3.155994  \n",
       "\n",
       "[284661 rows x 6 columns]"
      ]
     },
     "execution_count": 9,
     "metadata": {},
     "output_type": "execute_result"
    }
   ],
   "source": [
    "combined_df"
   ]
  },
  {
   "cell_type": "code",
   "execution_count": 10,
   "metadata": {
    "ExecuteTime": {
     "end_time": "2020-04-26T18:41:28.662086Z",
     "start_time": "2020-04-26T18:41:28.656951Z"
    }
   },
   "outputs": [
    {
     "data": {
      "text/plain": [
       "Index(['ImageFileName', 'lat', 'lon', 'loc1', 'loc2', 'Green'], dtype='object')"
      ]
     },
     "execution_count": 10,
     "metadata": {},
     "output_type": "execute_result"
    }
   ],
   "source": [
    "combined_df.columns"
   ]
  },
  {
   "cell_type": "code",
   "execution_count": 12,
   "metadata": {
    "ExecuteTime": {
     "end_time": "2020-04-26T18:41:43.658780Z",
     "start_time": "2020-04-26T18:41:43.656031Z"
    }
   },
   "outputs": [],
   "source": [
    "# combined_df = combined_df.drop(['Left_Edge_Longitude', 'Right_Edge_Longitude',\n",
    "#                   'Top_Edge_Latitude', 'Bottom_Edge_Latitude'],\n",
    "#                 axis=1)"
   ]
  },
  {
   "cell_type": "code",
   "execution_count": 13,
   "metadata": {
    "ExecuteTime": {
     "end_time": "2020-04-26T18:41:44.746104Z",
     "start_time": "2020-04-26T18:41:44.722357Z"
    }
   },
   "outputs": [
    {
     "data": {
      "text/html": [
       "<div>\n",
       "<style scoped>\n",
       "    .dataframe tbody tr th:only-of-type {\n",
       "        vertical-align: middle;\n",
       "    }\n",
       "\n",
       "    .dataframe tbody tr th {\n",
       "        vertical-align: top;\n",
       "    }\n",
       "\n",
       "    .dataframe thead th {\n",
       "        text-align: right;\n",
       "    }\n",
       "</style>\n",
       "<table border=\"1\" class=\"dataframe\">\n",
       "  <thead>\n",
       "    <tr style=\"text-align: right;\">\n",
       "      <th></th>\n",
       "      <th>ImageFileName</th>\n",
       "      <th>lat</th>\n",
       "      <th>lon</th>\n",
       "      <th>loc1</th>\n",
       "      <th>loc2</th>\n",
       "      <th>Green</th>\n",
       "    </tr>\n",
       "  </thead>\n",
       "  <tbody>\n",
       "    <tr>\n",
       "      <th>0</th>\n",
       "      <td>374832_374832_242793.jpg</td>\n",
       "      <td>13.169420</td>\n",
       "      <td>77.377052</td>\n",
       "      <td>Bardi</td>\n",
       "      <td>Bangalore Rural</td>\n",
       "      <td>0.016785</td>\n",
       "    </tr>\n",
       "    <tr>\n",
       "      <th>1</th>\n",
       "      <td>374832_374832_242794.jpg</td>\n",
       "      <td>13.168751</td>\n",
       "      <td>77.377052</td>\n",
       "      <td>Bardi</td>\n",
       "      <td>Bangalore Rural</td>\n",
       "      <td>6.078339</td>\n",
       "    </tr>\n",
       "    <tr>\n",
       "      <th>2</th>\n",
       "      <td>374832_374832_242795.jpg</td>\n",
       "      <td>13.168083</td>\n",
       "      <td>77.377052</td>\n",
       "      <td>Bardi</td>\n",
       "      <td>Bangalore Rural</td>\n",
       "      <td>4.986191</td>\n",
       "    </tr>\n",
       "    <tr>\n",
       "      <th>3</th>\n",
       "      <td>374832_374832_242796.jpg</td>\n",
       "      <td>13.167414</td>\n",
       "      <td>77.377052</td>\n",
       "      <td>Bardi</td>\n",
       "      <td>Bangalore Rural</td>\n",
       "      <td>26.789761</td>\n",
       "    </tr>\n",
       "    <tr>\n",
       "      <th>4</th>\n",
       "      <td>374832_374832_242797.jpg</td>\n",
       "      <td>13.166745</td>\n",
       "      <td>77.377052</td>\n",
       "      <td>Bardi</td>\n",
       "      <td>Bangalore Rural</td>\n",
       "      <td>37.653446</td>\n",
       "    </tr>\n",
       "    <tr>\n",
       "      <th>...</th>\n",
       "      <td>...</td>\n",
       "      <td>...</td>\n",
       "      <td>...</td>\n",
       "      <td>...</td>\n",
       "      <td>...</td>\n",
       "      <td>...</td>\n",
       "    </tr>\n",
       "    <tr>\n",
       "      <th>284656</th>\n",
       "      <td>375452_375452_243240.jpg</td>\n",
       "      <td>12.870380</td>\n",
       "      <td>77.802773</td>\n",
       "      <td>Sarjapura</td>\n",
       "      <td>Bengaluru Urban</td>\n",
       "      <td>2.929878</td>\n",
       "    </tr>\n",
       "    <tr>\n",
       "      <th>284657</th>\n",
       "      <td>375452_375452_243241.jpg</td>\n",
       "      <td>12.869711</td>\n",
       "      <td>77.802773</td>\n",
       "      <td>Sarjapura</td>\n",
       "      <td>Bengaluru Urban</td>\n",
       "      <td>14.162827</td>\n",
       "    </tr>\n",
       "    <tr>\n",
       "      <th>284658</th>\n",
       "      <td>375452_375452_243241.jpg</td>\n",
       "      <td>12.869711</td>\n",
       "      <td>77.802773</td>\n",
       "      <td>Sarjapura</td>\n",
       "      <td>Bengaluru Urban</td>\n",
       "      <td>14.162827</td>\n",
       "    </tr>\n",
       "    <tr>\n",
       "      <th>284659</th>\n",
       "      <td>375452_375452_243242.jpg</td>\n",
       "      <td>12.869041</td>\n",
       "      <td>77.802773</td>\n",
       "      <td>Sarjapura</td>\n",
       "      <td>Bengaluru Urban</td>\n",
       "      <td>3.155994</td>\n",
       "    </tr>\n",
       "    <tr>\n",
       "      <th>284660</th>\n",
       "      <td>375452_375452_243242.jpg</td>\n",
       "      <td>12.869041</td>\n",
       "      <td>77.802773</td>\n",
       "      <td>Sarjapura</td>\n",
       "      <td>Bengaluru Urban</td>\n",
       "      <td>3.155994</td>\n",
       "    </tr>\n",
       "  </tbody>\n",
       "</table>\n",
       "<p>284661 rows × 6 columns</p>\n",
       "</div>"
      ],
      "text/plain": [
       "                   ImageFileName        lat        lon       loc1  \\\n",
       "0       374832_374832_242793.jpg  13.169420  77.377052      Bardi   \n",
       "1       374832_374832_242794.jpg  13.168751  77.377052      Bardi   \n",
       "2       374832_374832_242795.jpg  13.168083  77.377052      Bardi   \n",
       "3       374832_374832_242796.jpg  13.167414  77.377052      Bardi   \n",
       "4       374832_374832_242797.jpg  13.166745  77.377052      Bardi   \n",
       "...                          ...        ...        ...        ...   \n",
       "284656  375452_375452_243240.jpg  12.870380  77.802773  Sarjapura   \n",
       "284657  375452_375452_243241.jpg  12.869711  77.802773  Sarjapura   \n",
       "284658  375452_375452_243241.jpg  12.869711  77.802773  Sarjapura   \n",
       "284659  375452_375452_243242.jpg  12.869041  77.802773  Sarjapura   \n",
       "284660  375452_375452_243242.jpg  12.869041  77.802773  Sarjapura   \n",
       "\n",
       "                   loc2      Green  \n",
       "0       Bangalore Rural   0.016785  \n",
       "1       Bangalore Rural   6.078339  \n",
       "2       Bangalore Rural   4.986191  \n",
       "3       Bangalore Rural  26.789761  \n",
       "4       Bangalore Rural  37.653446  \n",
       "...                 ...        ...  \n",
       "284656  Bengaluru Urban   2.929878  \n",
       "284657  Bengaluru Urban  14.162827  \n",
       "284658  Bengaluru Urban  14.162827  \n",
       "284659  Bengaluru Urban   3.155994  \n",
       "284660  Bengaluru Urban   3.155994  \n",
       "\n",
       "[284661 rows x 6 columns]"
      ]
     },
     "execution_count": 13,
     "metadata": {},
     "output_type": "execute_result"
    }
   ],
   "source": [
    "combined_df"
   ]
  },
  {
   "cell_type": "code",
   "execution_count": 14,
   "metadata": {
    "ExecuteTime": {
     "end_time": "2020-04-26T18:41:59.675584Z",
     "start_time": "2020-04-26T18:41:59.669588Z"
    }
   },
   "outputs": [],
   "source": [
    "# combined_df.dropna(subset=[\"Postal_Code\"], inplace=True)"
   ]
  },
  {
   "cell_type": "code",
   "execution_count": 15,
   "metadata": {
    "ExecuteTime": {
     "end_time": "2020-04-26T18:42:02.921900Z",
     "start_time": "2020-04-26T18:42:02.916721Z"
    }
   },
   "outputs": [],
   "source": [
    "# combined_df"
   ]
  },
  {
   "cell_type": "code",
   "execution_count": 16,
   "metadata": {
    "ExecuteTime": {
     "end_time": "2020-04-26T18:42:06.826681Z",
     "start_time": "2020-04-26T18:42:06.823786Z"
    }
   },
   "outputs": [],
   "source": [
    "# combined_df = combined_df.astype({\"Postal_Code\": int})"
   ]
  },
  {
   "cell_type": "code",
   "execution_count": 17,
   "metadata": {
    "ExecuteTime": {
     "end_time": "2020-04-26T18:42:09.087891Z",
     "start_time": "2020-04-26T18:42:09.080984Z"
    }
   },
   "outputs": [],
   "source": [
    "# combined_df[\"Lat\"], combined_df[\"Lon\"] = combined_df[\"Lat_Lng\"].str.split(\",\", 1).str"
   ]
  },
  {
   "cell_type": "code",
   "execution_count": 18,
   "metadata": {
    "ExecuteTime": {
     "end_time": "2020-04-26T18:42:10.743328Z",
     "start_time": "2020-04-26T18:42:10.738420Z"
    }
   },
   "outputs": [],
   "source": [
    "# combined_df.drop(\"Lat_Lng\", axis=1, inplace=True)"
   ]
  },
  {
   "cell_type": "code",
   "execution_count": 19,
   "metadata": {
    "ExecuteTime": {
     "end_time": "2020-04-26T18:42:13.785581Z",
     "start_time": "2020-04-26T18:42:13.782871Z"
    }
   },
   "outputs": [],
   "source": [
    "# combined_df = combined_df[[\"ImageFileName\", \"Lat\", \"Lon\", \"Locality\", \"Postal_Code\", \"Green\"]]"
   ]
  },
  {
   "cell_type": "code",
   "execution_count": 20,
   "metadata": {
    "ExecuteTime": {
     "end_time": "2020-04-26T18:42:16.446687Z",
     "start_time": "2020-04-26T18:42:16.443649Z"
    }
   },
   "outputs": [],
   "source": [
    "# combined_df"
   ]
  },
  {
   "cell_type": "code",
   "execution_count": 22,
   "metadata": {
    "ExecuteTime": {
     "end_time": "2020-04-26T18:45:31.056441Z",
     "start_time": "2020-04-26T18:45:29.034457Z"
    }
   },
   "outputs": [],
   "source": [
    "combined_df.to_csv(\"main_new.csv\", index=False, header=False)"
   ]
  },
  {
   "cell_type": "code",
   "execution_count": null,
   "metadata": {},
   "outputs": [],
   "source": []
  }
 ],
 "metadata": {
  "kernelspec": {
   "display_name": "Python 3",
   "language": "python",
   "name": "python3"
  },
  "language_info": {
   "codemirror_mode": {
    "name": "ipython",
    "version": 3
   },
   "file_extension": ".py",
   "mimetype": "text/x-python",
   "name": "python",
   "nbconvert_exporter": "python",
   "pygments_lexer": "ipython3",
   "version": "3.7.5"
  },
  "toc": {
   "base_numbering": 1,
   "nav_menu": {},
   "number_sections": true,
   "sideBar": true,
   "skip_h1_title": false,
   "title_cell": "Table of Contents",
   "title_sidebar": "Contents",
   "toc_cell": false,
   "toc_position": {},
   "toc_section_display": true,
   "toc_window_display": false
  },
  "varInspector": {
   "cols": {
    "lenName": 16,
    "lenType": 16,
    "lenVar": 40
   },
   "kernels_config": {
    "python": {
     "delete_cmd_postfix": "",
     "delete_cmd_prefix": "del ",
     "library": "var_list.py",
     "varRefreshCmd": "print(var_dic_list())"
    },
    "r": {
     "delete_cmd_postfix": ") ",
     "delete_cmd_prefix": "rm(",
     "library": "var_list.r",
     "varRefreshCmd": "cat(var_dic_list()) "
    }
   },
   "types_to_exclude": [
    "module",
    "function",
    "builtin_function_or_method",
    "instance",
    "_Feature"
   ],
   "window_display": false
  }
 },
 "nbformat": 4,
 "nbformat_minor": 4
}
