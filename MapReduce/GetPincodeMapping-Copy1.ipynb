{
 "cells": [
  {
   "cell_type": "code",
   "execution_count": 1,
   "metadata": {
    "ExecuteTime": {
     "end_time": "2020-04-27T16:12:01.520320Z",
     "start_time": "2020-04-27T16:12:01.512397Z"
    }
   },
   "outputs": [],
   "source": [
    "import pandas as pd"
   ]
  },
  {
   "cell_type": "code",
   "execution_count": 20,
   "metadata": {
    "ExecuteTime": {
     "end_time": "2020-04-27T16:18:32.740895Z",
     "start_time": "2020-04-27T16:18:31.759742Z"
    }
   },
   "outputs": [
    {
     "name": "stderr",
     "output_type": "stream",
     "text": [
      "/home/samyak/Sam/envs/DeepEnv/lib/python3.7/site-packages/IPython/core/interactiveshell.py:3063: DtypeWarning: Columns (8) have mixed types.Specify dtype option on import or set low_memory=False.\n",
      "  interactivity=interactivity, compiler=compiler, result=result)\n"
     ]
    }
   ],
   "source": [
    "df = pd.read_csv(\"./FINAL.csv\", header=None)"
   ]
  },
  {
   "cell_type": "code",
   "execution_count": 21,
   "metadata": {
    "ExecuteTime": {
     "end_time": "2020-04-27T16:18:32.826966Z",
     "start_time": "2020-04-27T16:18:32.804506Z"
    }
   },
   "outputs": [
    {
     "data": {
      "text/html": [
       "<div>\n",
       "<style scoped>\n",
       "    .dataframe tbody tr th:only-of-type {\n",
       "        vertical-align: middle;\n",
       "    }\n",
       "\n",
       "    .dataframe tbody tr th {\n",
       "        vertical-align: top;\n",
       "    }\n",
       "\n",
       "    .dataframe thead th {\n",
       "        text-align: right;\n",
       "    }\n",
       "</style>\n",
       "<table border=\"1\" class=\"dataframe\">\n",
       "  <thead>\n",
       "    <tr style=\"text-align: right;\">\n",
       "      <th></th>\n",
       "      <th>0</th>\n",
       "      <th>1</th>\n",
       "      <th>2</th>\n",
       "      <th>3</th>\n",
       "      <th>4</th>\n",
       "      <th>5</th>\n",
       "      <th>6</th>\n",
       "      <th>7</th>\n",
       "      <th>8</th>\n",
       "      <th>9</th>\n",
       "      <th>10</th>\n",
       "      <th>11</th>\n",
       "      <th>12</th>\n",
       "    </tr>\n",
       "  </thead>\n",
       "  <tbody>\n",
       "    <tr>\n",
       "      <th>0</th>\n",
       "      <td>374832_374832_243020.jpg</td>\n",
       "      <td>77.377052</td>\n",
       "      <td>13.017604</td>\n",
       "      <td>28.470993</td>\n",
       "      <td>NaN</td>\n",
       "      <td>Bengaluru</td>\n",
       "      <td>562130</td>\n",
       "      <td>Bengaluru 562130, India</td>\n",
       "      <td>NaN</td>\n",
       "      <td>NaN</td>\n",
       "      <td>Bengaluru</td>\n",
       "      <td>KA</td>\n",
       "      <td>IND</td>\n",
       "    </tr>\n",
       "    <tr>\n",
       "      <th>1</th>\n",
       "      <td>374832_374832_243021.jpg</td>\n",
       "      <td>77.377052</td>\n",
       "      <td>13.016935</td>\n",
       "      <td>10.418892</td>\n",
       "      <td>NaN</td>\n",
       "      <td>Bengaluru</td>\n",
       "      <td>562130</td>\n",
       "      <td>Bengaluru 562130, India</td>\n",
       "      <td>NaN</td>\n",
       "      <td>NaN</td>\n",
       "      <td>Bengaluru</td>\n",
       "      <td>KA</td>\n",
       "      <td>IND</td>\n",
       "    </tr>\n",
       "    <tr>\n",
       "      <th>2</th>\n",
       "      <td>374832_374832_243022.jpg</td>\n",
       "      <td>77.377052</td>\n",
       "      <td>13.016266</td>\n",
       "      <td>23.201275</td>\n",
       "      <td>NaN</td>\n",
       "      <td>Bengaluru</td>\n",
       "      <td>562130</td>\n",
       "      <td>Bengaluru 562130, India</td>\n",
       "      <td>NaN</td>\n",
       "      <td>NaN</td>\n",
       "      <td>Bengaluru</td>\n",
       "      <td>KA</td>\n",
       "      <td>IND</td>\n",
       "    </tr>\n",
       "    <tr>\n",
       "      <th>3</th>\n",
       "      <td>374832_374832_243023.jpg</td>\n",
       "      <td>77.377052</td>\n",
       "      <td>13.015597</td>\n",
       "      <td>14.437103</td>\n",
       "      <td>NaN</td>\n",
       "      <td>Bengaluru</td>\n",
       "      <td>562130</td>\n",
       "      <td>Bengaluru 562130, India</td>\n",
       "      <td>NaN</td>\n",
       "      <td>NaN</td>\n",
       "      <td>Bengaluru</td>\n",
       "      <td>KA</td>\n",
       "      <td>IND</td>\n",
       "    </tr>\n",
       "    <tr>\n",
       "      <th>4</th>\n",
       "      <td>374832_374832_243024.jpg</td>\n",
       "      <td>77.377052</td>\n",
       "      <td>13.014928</td>\n",
       "      <td>17.146111</td>\n",
       "      <td>NaN</td>\n",
       "      <td>Bengaluru</td>\n",
       "      <td>562130</td>\n",
       "      <td>Bengaluru 562130, India</td>\n",
       "      <td>NaN</td>\n",
       "      <td>NaN</td>\n",
       "      <td>Bengaluru</td>\n",
       "      <td>KA</td>\n",
       "      <td>IND</td>\n",
       "    </tr>\n",
       "    <tr>\n",
       "      <th>...</th>\n",
       "      <td>...</td>\n",
       "      <td>...</td>\n",
       "      <td>...</td>\n",
       "      <td>...</td>\n",
       "      <td>...</td>\n",
       "      <td>...</td>\n",
       "      <td>...</td>\n",
       "      <td>...</td>\n",
       "      <td>...</td>\n",
       "      <td>...</td>\n",
       "      <td>...</td>\n",
       "      <td>...</td>\n",
       "      <td>...</td>\n",
       "    </tr>\n",
       "    <tr>\n",
       "      <th>429240</th>\n",
       "      <td>375590_375590_242919.jpg</td>\n",
       "      <td>77.897530</td>\n",
       "      <td>13.085163</td>\n",
       "      <td>82.369995</td>\n",
       "      <td>NaN</td>\n",
       "      <td>Bengaluru Rural</td>\n",
       "      <td>562114</td>\n",
       "      <td>Hoskote 562114, India</td>\n",
       "      <td>NaN</td>\n",
       "      <td>NaN</td>\n",
       "      <td>Hoskote</td>\n",
       "      <td>KA</td>\n",
       "      <td>IND</td>\n",
       "    </tr>\n",
       "    <tr>\n",
       "      <th>429241</th>\n",
       "      <td>375590_375590_242920.jpg</td>\n",
       "      <td>77.897530</td>\n",
       "      <td>13.084494</td>\n",
       "      <td>51.175880</td>\n",
       "      <td>NaN</td>\n",
       "      <td>Bengaluru Rural</td>\n",
       "      <td>562114</td>\n",
       "      <td>Hoskote 562114, India</td>\n",
       "      <td>NaN</td>\n",
       "      <td>NaN</td>\n",
       "      <td>Hoskote</td>\n",
       "      <td>KA</td>\n",
       "      <td>IND</td>\n",
       "    </tr>\n",
       "    <tr>\n",
       "      <th>429242</th>\n",
       "      <td>375590_375590_242921.jpg</td>\n",
       "      <td>77.897530</td>\n",
       "      <td>13.083826</td>\n",
       "      <td>51.025772</td>\n",
       "      <td>NaN</td>\n",
       "      <td>Bengaluru Rural</td>\n",
       "      <td>562114</td>\n",
       "      <td>Hoskote 562114, India</td>\n",
       "      <td>NaN</td>\n",
       "      <td>NaN</td>\n",
       "      <td>Hoskote</td>\n",
       "      <td>KA</td>\n",
       "      <td>IND</td>\n",
       "    </tr>\n",
       "    <tr>\n",
       "      <th>429243</th>\n",
       "      <td>375590_375590_242922.jpg</td>\n",
       "      <td>77.897530</td>\n",
       "      <td>13.083157</td>\n",
       "      <td>37.821484</td>\n",
       "      <td>NaN</td>\n",
       "      <td>Bengaluru Rural</td>\n",
       "      <td>562114</td>\n",
       "      <td>Hoskote 562114, India</td>\n",
       "      <td>NaN</td>\n",
       "      <td>NaN</td>\n",
       "      <td>Hoskote</td>\n",
       "      <td>KA</td>\n",
       "      <td>IND</td>\n",
       "    </tr>\n",
       "    <tr>\n",
       "      <th>429244</th>\n",
       "      <td>375590_375590_242923.jpg</td>\n",
       "      <td>77.897530</td>\n",
       "      <td>13.082488</td>\n",
       "      <td>61.127472</td>\n",
       "      <td>NaN</td>\n",
       "      <td>Bengaluru Rural</td>\n",
       "      <td>562114</td>\n",
       "      <td>Hoskote 562114, India</td>\n",
       "      <td>NaN</td>\n",
       "      <td>NaN</td>\n",
       "      <td>Hoskote</td>\n",
       "      <td>KA</td>\n",
       "      <td>IND</td>\n",
       "    </tr>\n",
       "  </tbody>\n",
       "</table>\n",
       "<p>429245 rows × 13 columns</p>\n",
       "</div>"
      ],
      "text/plain": [
       "                              0          1          2          3    4   \\\n",
       "0       374832_374832_243020.jpg  77.377052  13.017604  28.470993  NaN   \n",
       "1       374832_374832_243021.jpg  77.377052  13.016935  10.418892  NaN   \n",
       "2       374832_374832_243022.jpg  77.377052  13.016266  23.201275  NaN   \n",
       "3       374832_374832_243023.jpg  77.377052  13.015597  14.437103  NaN   \n",
       "4       374832_374832_243024.jpg  77.377052  13.014928  17.146111  NaN   \n",
       "...                          ...        ...        ...        ...  ...   \n",
       "429240  375590_375590_242919.jpg  77.897530  13.085163  82.369995  NaN   \n",
       "429241  375590_375590_242920.jpg  77.897530  13.084494  51.175880  NaN   \n",
       "429242  375590_375590_242921.jpg  77.897530  13.083826  51.025772  NaN   \n",
       "429243  375590_375590_242922.jpg  77.897530  13.083157  37.821484  NaN   \n",
       "429244  375590_375590_242923.jpg  77.897530  13.082488  61.127472  NaN   \n",
       "\n",
       "                     5       6                        7    8    9          10  \\\n",
       "0             Bengaluru  562130  Bengaluru 562130, India  NaN  NaN  Bengaluru   \n",
       "1             Bengaluru  562130  Bengaluru 562130, India  NaN  NaN  Bengaluru   \n",
       "2             Bengaluru  562130  Bengaluru 562130, India  NaN  NaN  Bengaluru   \n",
       "3             Bengaluru  562130  Bengaluru 562130, India  NaN  NaN  Bengaluru   \n",
       "4             Bengaluru  562130  Bengaluru 562130, India  NaN  NaN  Bengaluru   \n",
       "...                 ...     ...                      ...  ...  ...        ...   \n",
       "429240  Bengaluru Rural  562114    Hoskote 562114, India  NaN  NaN    Hoskote   \n",
       "429241  Bengaluru Rural  562114    Hoskote 562114, India  NaN  NaN    Hoskote   \n",
       "429242  Bengaluru Rural  562114    Hoskote 562114, India  NaN  NaN    Hoskote   \n",
       "429243  Bengaluru Rural  562114    Hoskote 562114, India  NaN  NaN    Hoskote   \n",
       "429244  Bengaluru Rural  562114    Hoskote 562114, India  NaN  NaN    Hoskote   \n",
       "\n",
       "        11   12  \n",
       "0       KA  IND  \n",
       "1       KA  IND  \n",
       "2       KA  IND  \n",
       "3       KA  IND  \n",
       "4       KA  IND  \n",
       "...     ..  ...  \n",
       "429240  KA  IND  \n",
       "429241  KA  IND  \n",
       "429242  KA  IND  \n",
       "429243  KA  IND  \n",
       "429244  KA  IND  \n",
       "\n",
       "[429245 rows x 13 columns]"
      ]
     },
     "execution_count": 21,
     "metadata": {},
     "output_type": "execute_result"
    }
   ],
   "source": [
    "df"
   ]
  },
  {
   "cell_type": "code",
   "execution_count": 22,
   "metadata": {
    "ExecuteTime": {
     "end_time": "2020-04-27T16:18:32.901077Z",
     "start_time": "2020-04-27T16:18:32.892456Z"
    }
   },
   "outputs": [
    {
     "name": "stderr",
     "output_type": "stream",
     "text": [
      "/home/samyak/Sam/envs/DeepEnv/lib/python3.7/site-packages/pandas/core/ops/array_ops.py:253: FutureWarning: elementwise comparison failed; returning scalar instead, but in the future will perform elementwise comparison\n",
      "  res_values = method(rvalues)\n"
     ]
    }
   ],
   "source": [
    "unknowns = df[(df[6]==\"Not Found\") | (df[6].isnull())]"
   ]
  },
  {
   "cell_type": "code",
   "execution_count": 23,
   "metadata": {
    "ExecuteTime": {
     "end_time": "2020-04-27T09:37:17.843066Z",
     "start_time": "2020-04-27T09:37:17.816316Z"
    }
   },
   "outputs": [],
   "source": [
    "unknowns = unknowns.loc[:, [3, 4, 6]].drop_duplicates()"
   ]
  },
  {
   "cell_type": "code",
   "execution_count": 24,
   "metadata": {
    "ExecuteTime": {
     "end_time": "2020-04-27T09:37:19.589857Z",
     "start_time": "2020-04-27T09:37:19.581503Z"
    }
   },
   "outputs": [],
   "source": [
    "unknowns.to_csv(\"unknown_locations.csv\", header=None, index=False)"
   ]
  },
  {
   "cell_type": "code",
   "execution_count": 33,
   "metadata": {
    "ExecuteTime": {
     "end_time": "2020-04-27T16:19:59.450663Z",
     "start_time": "2020-04-27T16:19:59.375041Z"
    }
   },
   "outputs": [],
   "source": [
    "unique_places = df.loc[:, [4, 5, 6]].drop_duplicates()"
   ]
  },
  {
   "cell_type": "code",
   "execution_count": 34,
   "metadata": {
    "ExecuteTime": {
     "end_time": "2020-04-27T16:19:59.812495Z",
     "start_time": "2020-04-27T16:19:59.806822Z"
    }
   },
   "outputs": [
    {
     "data": {
      "text/plain": [
       "792"
      ]
     },
     "execution_count": 34,
     "metadata": {},
     "output_type": "execute_result"
    }
   ],
   "source": [
    "len(unique_places)"
   ]
  },
  {
   "cell_type": "code",
   "execution_count": 35,
   "metadata": {
    "ExecuteTime": {
     "end_time": "2020-04-27T16:20:00.298142Z",
     "start_time": "2020-04-27T16:20:00.288043Z"
    }
   },
   "outputs": [],
   "source": [
    "unique_places.dropna(subset=[6], inplace=True)"
   ]
  },
  {
   "cell_type": "code",
   "execution_count": 38,
   "metadata": {
    "ExecuteTime": {
     "end_time": "2020-04-27T16:20:20.999085Z",
     "start_time": "2020-04-27T16:20:20.994064Z"
    }
   },
   "outputs": [],
   "source": [
    "unique_places = unique_places.astype({6: str})"
   ]
  },
  {
   "cell_type": "code",
   "execution_count": 40,
   "metadata": {
    "ExecuteTime": {
     "end_time": "2020-04-27T16:20:27.470246Z",
     "start_time": "2020-04-27T16:20:27.464958Z"
    }
   },
   "outputs": [],
   "source": [
    "unique_places.set_index(6, inplace=True)"
   ]
  },
  {
   "cell_type": "code",
   "execution_count": 41,
   "metadata": {
    "ExecuteTime": {
     "end_time": "2020-04-27T16:20:27.791318Z",
     "start_time": "2020-04-27T16:20:27.774704Z"
    }
   },
   "outputs": [
    {
     "data": {
      "text/html": [
       "<div>\n",
       "<style scoped>\n",
       "    .dataframe tbody tr th:only-of-type {\n",
       "        vertical-align: middle;\n",
       "    }\n",
       "\n",
       "    .dataframe tbody tr th {\n",
       "        vertical-align: top;\n",
       "    }\n",
       "\n",
       "    .dataframe thead th {\n",
       "        text-align: right;\n",
       "    }\n",
       "</style>\n",
       "<table border=\"1\" class=\"dataframe\">\n",
       "  <thead>\n",
       "    <tr style=\"text-align: right;\">\n",
       "      <th></th>\n",
       "      <th>4</th>\n",
       "      <th>5</th>\n",
       "    </tr>\n",
       "    <tr>\n",
       "      <th>6</th>\n",
       "      <th></th>\n",
       "      <th></th>\n",
       "    </tr>\n",
       "  </thead>\n",
       "  <tbody>\n",
       "    <tr>\n",
       "      <th>562130</th>\n",
       "      <td>NaN</td>\n",
       "      <td>Bengaluru</td>\n",
       "    </tr>\n",
       "    <tr>\n",
       "      <th>562162</th>\n",
       "      <td>NaN</td>\n",
       "      <td>Bengaluru</td>\n",
       "    </tr>\n",
       "    <tr>\n",
       "      <th>560074</th>\n",
       "      <td>NaN</td>\n",
       "      <td>Bengaluru</td>\n",
       "    </tr>\n",
       "    <tr>\n",
       "      <th>562123</th>\n",
       "      <td>NaN</td>\n",
       "      <td>Bengaluru</td>\n",
       "    </tr>\n",
       "    <tr>\n",
       "      <th>562109</th>\n",
       "      <td>NaN</td>\n",
       "      <td>Bengaluru</td>\n",
       "    </tr>\n",
       "    <tr>\n",
       "      <th>...</th>\n",
       "      <td>...</td>\n",
       "      <td>...</td>\n",
       "    </tr>\n",
       "    <tr>\n",
       "      <th>560067</th>\n",
       "      <td>Maruthop</td>\n",
       "      <td>Bengaluru Rural</td>\n",
       "    </tr>\n",
       "    <tr>\n",
       "      <th>562114</th>\n",
       "      <td>Maruthop</td>\n",
       "      <td>Bengaluru Rural</td>\n",
       "    </tr>\n",
       "    <tr>\n",
       "      <th>560067</th>\n",
       "      <td>Naganayakanakote</td>\n",
       "      <td>Bengaluru Rural</td>\n",
       "    </tr>\n",
       "    <tr>\n",
       "      <th>560067</th>\n",
       "      <td>NaN</td>\n",
       "      <td>Bengaluru Rural</td>\n",
       "    </tr>\n",
       "    <tr>\n",
       "      <th>562122</th>\n",
       "      <td>NaN</td>\n",
       "      <td>Bengaluru Rural</td>\n",
       "    </tr>\n",
       "  </tbody>\n",
       "</table>\n",
       "<p>792 rows × 2 columns</p>\n",
       "</div>"
      ],
      "text/plain": [
       "                       4                5\n",
       "6                                        \n",
       "562130               NaN        Bengaluru\n",
       "562162               NaN        Bengaluru\n",
       "560074               NaN        Bengaluru\n",
       "562123               NaN        Bengaluru\n",
       "562109               NaN        Bengaluru\n",
       "...                  ...              ...\n",
       "560067          Maruthop  Bengaluru Rural\n",
       "562114          Maruthop  Bengaluru Rural\n",
       "560067  Naganayakanakote  Bengaluru Rural\n",
       "560067               NaN  Bengaluru Rural\n",
       "562122               NaN  Bengaluru Rural\n",
       "\n",
       "[792 rows x 2 columns]"
      ]
     },
     "execution_count": 41,
     "metadata": {},
     "output_type": "execute_result"
    }
   ],
   "source": [
    "unique_places"
   ]
  },
  {
   "cell_type": "code",
   "execution_count": 43,
   "metadata": {
    "ExecuteTime": {
     "end_time": "2020-04-27T16:20:32.360762Z",
     "start_time": "2020-04-27T16:20:32.337108Z"
    }
   },
   "outputs": [
    {
     "data": {
      "text/html": [
       "<div>\n",
       "<style scoped>\n",
       "    .dataframe tbody tr th:only-of-type {\n",
       "        vertical-align: middle;\n",
       "    }\n",
       "\n",
       "    .dataframe tbody tr th {\n",
       "        vertical-align: top;\n",
       "    }\n",
       "\n",
       "    .dataframe thead th {\n",
       "        text-align: right;\n",
       "    }\n",
       "</style>\n",
       "<table border=\"1\" class=\"dataframe\">\n",
       "  <thead>\n",
       "    <tr style=\"text-align: right;\">\n",
       "      <th></th>\n",
       "      <th>4</th>\n",
       "      <th>5</th>\n",
       "    </tr>\n",
       "    <tr>\n",
       "      <th>6</th>\n",
       "      <th></th>\n",
       "      <th></th>\n",
       "    </tr>\n",
       "  </thead>\n",
       "  <tbody>\n",
       "    <tr>\n",
       "      <th>562130</th>\n",
       "      <td>NaN</td>\n",
       "      <td>Bengaluru</td>\n",
       "    </tr>\n",
       "    <tr>\n",
       "      <th>562130</th>\n",
       "      <td>Lakshmipura</td>\n",
       "      <td>Bengaluru</td>\n",
       "    </tr>\n",
       "    <tr>\n",
       "      <th>562130</th>\n",
       "      <td>Bylakonenahalli</td>\n",
       "      <td>Bengaluru</td>\n",
       "    </tr>\n",
       "    <tr>\n",
       "      <th>562130</th>\n",
       "      <td>Chikkabidarakallu</td>\n",
       "      <td>Bengaluru</td>\n",
       "    </tr>\n",
       "    <tr>\n",
       "      <th>562130</th>\n",
       "      <td>Gangondanahalli</td>\n",
       "      <td>Bengaluru</td>\n",
       "    </tr>\n",
       "    <tr>\n",
       "      <th>562130</th>\n",
       "      <td>Thigalarapalya</td>\n",
       "      <td>Bengaluru</td>\n",
       "    </tr>\n",
       "  </tbody>\n",
       "</table>\n",
       "</div>"
      ],
      "text/plain": [
       "                        4          5\n",
       "6                                   \n",
       "562130                NaN  Bengaluru\n",
       "562130        Lakshmipura  Bengaluru\n",
       "562130    Bylakonenahalli  Bengaluru\n",
       "562130  Chikkabidarakallu  Bengaluru\n",
       "562130    Gangondanahalli  Bengaluru\n",
       "562130     Thigalarapalya  Bengaluru"
      ]
     },
     "execution_count": 43,
     "metadata": {},
     "output_type": "execute_result"
    }
   ],
   "source": [
    "unique_places.loc[\"562130\"]"
   ]
  },
  {
   "cell_type": "code",
   "execution_count": 44,
   "metadata": {
    "ExecuteTime": {
     "end_time": "2020-04-27T16:20:36.707254Z",
     "start_time": "2020-04-27T16:20:36.700648Z"
    }
   },
   "outputs": [
    {
     "name": "stdout",
     "output_type": "stream",
     "text": [
      "nan Bengaluru\n",
      "Lakshmipura Bengaluru\n",
      "Bylakonenahalli Bengaluru\n",
      "Chikkabidarakallu Bengaluru\n",
      "Gangondanahalli Bengaluru\n",
      "Thigalarapalya Bengaluru\n"
     ]
    }
   ],
   "source": [
    "for i, j in zip(unique_places.loc[\"562130\"][4], unique_places.loc[\"562130\"][5]):\n",
    "    print(i, j)"
   ]
  },
  {
   "cell_type": "code",
   "execution_count": 45,
   "metadata": {
    "ExecuteTime": {
     "end_time": "2020-04-27T16:20:38.759564Z",
     "start_time": "2020-04-27T16:20:38.748395Z"
    }
   },
   "outputs": [],
   "source": [
    "unique_places.to_csv(\"pincode_locality_mapping.csv\", header=None, index=True)"
   ]
  },
  {
   "cell_type": "code",
   "execution_count": 46,
   "metadata": {
    "ExecuteTime": {
     "end_time": "2020-04-27T16:21:06.137029Z",
     "start_time": "2020-04-27T16:21:06.130632Z"
    }
   },
   "outputs": [],
   "source": [
    "pincode_locality_mapping = pd.read_csv(\"./pincode_locality_mapping.csv\", header=None)"
   ]
  },
  {
   "cell_type": "code",
   "execution_count": 47,
   "metadata": {
    "ExecuteTime": {
     "end_time": "2020-04-27T16:21:06.354466Z",
     "start_time": "2020-04-27T16:21:06.347731Z"
    }
   },
   "outputs": [],
   "source": [
    "pincode_locality_mapping.set_index(0, inplace=True)"
   ]
  },
  {
   "cell_type": "code",
   "execution_count": 48,
   "metadata": {
    "ExecuteTime": {
     "end_time": "2020-04-27T16:21:06.569484Z",
     "start_time": "2020-04-27T16:21:06.555522Z"
    }
   },
   "outputs": [
    {
     "data": {
      "text/html": [
       "<div>\n",
       "<style scoped>\n",
       "    .dataframe tbody tr th:only-of-type {\n",
       "        vertical-align: middle;\n",
       "    }\n",
       "\n",
       "    .dataframe tbody tr th {\n",
       "        vertical-align: top;\n",
       "    }\n",
       "\n",
       "    .dataframe thead th {\n",
       "        text-align: right;\n",
       "    }\n",
       "</style>\n",
       "<table border=\"1\" class=\"dataframe\">\n",
       "  <thead>\n",
       "    <tr style=\"text-align: right;\">\n",
       "      <th></th>\n",
       "      <th>1</th>\n",
       "      <th>2</th>\n",
       "    </tr>\n",
       "    <tr>\n",
       "      <th>0</th>\n",
       "      <th></th>\n",
       "      <th></th>\n",
       "    </tr>\n",
       "  </thead>\n",
       "  <tbody>\n",
       "    <tr>\n",
       "      <th>562130</th>\n",
       "      <td>NaN</td>\n",
       "      <td>Bengaluru</td>\n",
       "    </tr>\n",
       "    <tr>\n",
       "      <th>562162</th>\n",
       "      <td>NaN</td>\n",
       "      <td>Bengaluru</td>\n",
       "    </tr>\n",
       "    <tr>\n",
       "      <th>560074</th>\n",
       "      <td>NaN</td>\n",
       "      <td>Bengaluru</td>\n",
       "    </tr>\n",
       "    <tr>\n",
       "      <th>562123</th>\n",
       "      <td>NaN</td>\n",
       "      <td>Bengaluru</td>\n",
       "    </tr>\n",
       "    <tr>\n",
       "      <th>562109</th>\n",
       "      <td>NaN</td>\n",
       "      <td>Bengaluru</td>\n",
       "    </tr>\n",
       "    <tr>\n",
       "      <th>...</th>\n",
       "      <td>...</td>\n",
       "      <td>...</td>\n",
       "    </tr>\n",
       "    <tr>\n",
       "      <th>560067</th>\n",
       "      <td>Maruthop</td>\n",
       "      <td>Bengaluru Rural</td>\n",
       "    </tr>\n",
       "    <tr>\n",
       "      <th>562114</th>\n",
       "      <td>Maruthop</td>\n",
       "      <td>Bengaluru Rural</td>\n",
       "    </tr>\n",
       "    <tr>\n",
       "      <th>560067</th>\n",
       "      <td>Naganayakanakote</td>\n",
       "      <td>Bengaluru Rural</td>\n",
       "    </tr>\n",
       "    <tr>\n",
       "      <th>560067</th>\n",
       "      <td>NaN</td>\n",
       "      <td>Bengaluru Rural</td>\n",
       "    </tr>\n",
       "    <tr>\n",
       "      <th>562122</th>\n",
       "      <td>NaN</td>\n",
       "      <td>Bengaluru Rural</td>\n",
       "    </tr>\n",
       "  </tbody>\n",
       "</table>\n",
       "<p>792 rows × 2 columns</p>\n",
       "</div>"
      ],
      "text/plain": [
       "                       1                2\n",
       "0                                        \n",
       "562130               NaN        Bengaluru\n",
       "562162               NaN        Bengaluru\n",
       "560074               NaN        Bengaluru\n",
       "562123               NaN        Bengaluru\n",
       "562109               NaN        Bengaluru\n",
       "...                  ...              ...\n",
       "560067          Maruthop  Bengaluru Rural\n",
       "562114          Maruthop  Bengaluru Rural\n",
       "560067  Naganayakanakote  Bengaluru Rural\n",
       "560067               NaN  Bengaluru Rural\n",
       "562122               NaN  Bengaluru Rural\n",
       "\n",
       "[792 rows x 2 columns]"
      ]
     },
     "execution_count": 48,
     "metadata": {},
     "output_type": "execute_result"
    }
   ],
   "source": [
    "pincode_locality_mapping"
   ]
  },
  {
   "cell_type": "code",
   "execution_count": 49,
   "metadata": {
    "ExecuteTime": {
     "end_time": "2020-04-27T16:21:11.543842Z",
     "start_time": "2020-04-27T16:21:11.531492Z"
    }
   },
   "outputs": [
    {
     "name": "stdout",
     "output_type": "stream",
     "text": [
      "BSK 6th Stage Bengaluru\n",
      "Uttarahalli Bengaluru\n",
      "Rajarajeshwari Nagar Bengaluru\n",
      "Ganigara Palya Bengaluru\n",
      "Subramanyapura Bengaluru\n",
      "Thalaghattapura Bengaluru\n",
      "Banashankari 5th Stage Bengaluru\n",
      "Hosahalli Bengaluru\n",
      "Uttarahalli Hobli Bengaluru\n",
      "Turahalli Bengaluru\n",
      "Hosakerehalli Bengaluru\n",
      "Gubbalala Bengaluru\n",
      "Vajarahalli Bengaluru\n",
      "Banashankari 3rd Stage Bengaluru\n",
      "Chikkalasandra Bengaluru\n",
      "Vasanthapura Bengaluru\n",
      "Padmanabha Nagar Bengaluru\n",
      "Isro Layout Bengaluru\n",
      "Kumaraswamy Layout 2nd Stage Bengaluru\n"
     ]
    }
   ],
   "source": [
    "for i, j in zip(pincode_locality_mapping.loc[560061][1], pincode_locality_mapping.loc[560061][2]):\n",
    "    print(i, j)"
   ]
  },
  {
   "cell_type": "code",
   "execution_count": 62,
   "metadata": {
    "ExecuteTime": {
     "end_time": "2020-04-27T08:05:47.934300Z",
     "start_time": "2020-04-27T08:05:47.918366Z"
    }
   },
   "outputs": [],
   "source": [
    "pincode_locality_mapper = pd.read_csv(\"./pincode_locality_mapping.csv\", header=None)"
   ]
  },
  {
   "cell_type": "code",
   "execution_count": 63,
   "metadata": {
    "ExecuteTime": {
     "end_time": "2020-04-27T08:05:53.856459Z",
     "start_time": "2020-04-27T08:05:53.845910Z"
    }
   },
   "outputs": [],
   "source": [
    "pincode_locality_mapper.set_index(0, inplace=True)"
   ]
  },
  {
   "cell_type": "code",
   "execution_count": 66,
   "metadata": {
    "ExecuteTime": {
     "end_time": "2020-04-27T08:06:59.491463Z",
     "start_time": "2020-04-27T08:06:59.488605Z"
    }
   },
   "outputs": [],
   "source": [
    "pincode = \"344022\""
   ]
  },
  {
   "cell_type": "code",
   "execution_count": 73,
   "metadata": {
    "ExecuteTime": {
     "end_time": "2020-04-27T08:08:23.129809Z",
     "start_time": "2020-04-27T08:08:23.114101Z"
    }
   },
   "outputs": [
    {
     "name": "stdout",
     "output_type": "stream",
     "text": [
      "('Gandhipura', 'Bengaluru Urban')\n"
     ]
    }
   ],
   "source": [
    "for sub_district, district in zip(pincode_locality_mapper.loc[[pincode]][1], pincode_locality_mapper.loc[[pincode]][2]):\n",
    "    print((sub_district, district))"
   ]
  },
  {
   "cell_type": "code",
   "execution_count": null,
   "metadata": {},
   "outputs": [],
   "source": []
  }
 ],
 "metadata": {
  "kernelspec": {
   "display_name": "Python 3",
   "language": "python",
   "name": "python3"
  },
  "language_info": {
   "codemirror_mode": {
    "name": "ipython",
    "version": 3
   },
   "file_extension": ".py",
   "mimetype": "text/x-python",
   "name": "python",
   "nbconvert_exporter": "python",
   "pygments_lexer": "ipython3",
   "version": "3.7.5"
  },
  "toc": {
   "base_numbering": 1,
   "nav_menu": {},
   "number_sections": true,
   "sideBar": true,
   "skip_h1_title": false,
   "title_cell": "Table of Contents",
   "title_sidebar": "Contents",
   "toc_cell": false,
   "toc_position": {},
   "toc_section_display": true,
   "toc_window_display": false
  },
  "varInspector": {
   "cols": {
    "lenName": 16,
    "lenType": 16,
    "lenVar": 40
   },
   "kernels_config": {
    "python": {
     "delete_cmd_postfix": "",
     "delete_cmd_prefix": "del ",
     "library": "var_list.py",
     "varRefreshCmd": "print(var_dic_list())"
    },
    "r": {
     "delete_cmd_postfix": ") ",
     "delete_cmd_prefix": "rm(",
     "library": "var_list.r",
     "varRefreshCmd": "cat(var_dic_list()) "
    }
   },
   "types_to_exclude": [
    "module",
    "function",
    "builtin_function_or_method",
    "instance",
    "_Feature"
   ],
   "window_display": false
  }
 },
 "nbformat": 4,
 "nbformat_minor": 4
}
